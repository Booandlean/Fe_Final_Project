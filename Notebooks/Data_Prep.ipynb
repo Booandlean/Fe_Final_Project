{
 "cells": [
  {
   "cell_type": "markdown",
   "metadata": {},
   "source": [
    "## Imports"
   ]
  },
  {
   "cell_type": "code",
   "execution_count": 1,
   "metadata": {},
   "outputs": [],
   "source": [
    "import numpy as np\n",
    "import pandas as pd\n",
    "import os\n",
    "import sys\n",
    "import shutil\n",
    "import matplotlib.pyplot as plt\n",
    "import seaborn as sns\n",
    "\n",
    "sys.path.append(\"../\")\n",
    "from src.functions import split_data\n",
    "%load_ext autoreload\n",
    "%autoreload 2"
   ]
  },
  {
   "cell_type": "markdown",
   "metadata": {},
   "source": [
    "## Data Splits"
   ]
  },
  {
   "cell_type": "markdown",
   "metadata": {},
   "source": [
    "These methods will prepare a data split with the 3 decimals representing the % of train, test, and validation data respectively. \n",
    "\n",
    "Note: split_data() may take a few minutes to run."
   ]
  },
  {
   "cell_type": "code",
   "execution_count": 2,
   "metadata": {},
   "outputs": [],
   "source": [
    "split_data(.9, .09, .01)"
   ]
  },
  {
   "cell_type": "code",
   "execution_count": 2,
   "metadata": {},
   "outputs": [],
   "source": [
    "split_data(.7, .15, .15)"
   ]
  },
  {
   "cell_type": "code",
   "execution_count": 2,
   "metadata": {},
   "outputs": [],
   "source": [
    "split_data(.9, .05, .05)"
   ]
  },
  {
   "cell_type": "markdown",
   "metadata": {},
   "source": [
    "## Pathways and Image Directories"
   ]
  },
  {
   "cell_type": "code",
   "execution_count": 3,
   "metadata": {},
   "outputs": [],
   "source": [
    "data_path = os.path.join('..', 'Data')\n",
    "\n",
    "images_path = os.path.join(data_path, 'Images')\n",
    "\n",
    "test_path = os.path.join(data_path, 'test_images')\n",
    "train_path = os.path.join(data_path, 'train_images')\n",
    "val_path = os.path.join(data_path, 'val_images')\n",
    "\n",
    "image_folders = os.listdir(images_path)\n",
    "\n",
    "test_folders = os.listdir(test_path)\n",
    "train_folders = os.listdir(train_path)\n",
    "val_folders = os.listdir(val_path)\n",
    "\n"
   ]
  },
  {
   "cell_type": "markdown",
   "metadata": {},
   "source": [
    "These 2 cells make the paths and directories used to hold the images used in the models. \n",
    "\n",
    "Note: The 'Ex' is short for exploratory"
   ]
  },
  {
   "cell_type": "code",
   "execution_count": 4,
   "metadata": {},
   "outputs": [],
   "source": [
    "Ex_test_path = os.path.join(data_path, 'ExModeling_test')\n",
    "Ex_train_path = os.path.join(data_path, 'ExModeling_train')\n",
    "Ex_val_path = os.path.join(data_path, 'ExModeling_val')"
   ]
  },
  {
   "cell_type": "code",
   "execution_count": null,
   "metadata": {},
   "outputs": [],
   "source": [
    "os.mkdir(Ex_test_path)\n",
    "os.mkdir(Ex_train_path)\n",
    "os.mkdir(Ex_val_path)"
   ]
  },
  {
   "cell_type": "markdown",
   "metadata": {},
   "source": [
    "Run this to make sure .DS_Store is gone. "
   ]
  },
  {
   "cell_type": "code",
   "execution_count": 5,
   "metadata": {},
   "outputs": [],
   "source": [
    "image_folders.remove('.DS_Store')"
   ]
  },
  {
   "cell_type": "markdown",
   "metadata": {},
   "source": [
    "## Methods"
   ]
  },
  {
   "cell_type": "markdown",
   "metadata": {},
   "source": [
    "All of these methods are part of split data which has already been imported from functions.py and do not need to be run, except for 'model_prep()' at the bottom of this section. model_prep() will be needed for moving breed image folders to the correct directories for modeling. "
   ]
  },
  {
   "cell_type": "code",
   "execution_count": 6,
   "metadata": {},
   "outputs": [],
   "source": [
    "def clean_target_file_name(name):\n",
    "    return ''.join(name.split('-')[1:])\n",
    "#takes messy filenames such as 'n02085620-Chihuahua', and returns all text after '-'"
   ]
  },
  {
   "cell_type": "code",
   "execution_count": 7,
   "metadata": {},
   "outputs": [],
   "source": [
    "def move_files(destination, origin, file_names):\n",
    "    os.mkdir(destination)\n",
    "    #creates a directory if it doesn't exist already\n",
    "    for file in file_names:\n",
    "    #iterates through images in dog files\n",
    "        file_path = os.path.join(origin, file)\n",
    "        #creates a path from specified path to the OG image file\n",
    "        destination_path = os.path.join(destination, file)\n",
    "        #creates a path from the new dir to the OG image file\n",
    "        shutil.copyfile(file_path, destination_path)\n",
    "        #copies OG image file to the new dir"
   ]
  },
  {
   "cell_type": "code",
   "execution_count": 8,
   "metadata": {},
   "outputs": [],
   "source": [
    "def train_test_val_split(lst, train=.90, test=.09, val=.01):\n",
    "    #lst is the list from directory made from the OG images folder\n",
    "    train_size = int(train * len(lst))\n",
    "    test_size = int(test * len(lst))\n",
    "    val_size = int(val * len(lst))\n",
    "    #determines distribution of images to train, test, and validation folders based on decimals given. \n",
    "    train_split = list(np.random.choice(lst, size=train_size, replace=False))\n",
    "    #adds a number of random images to train list equal to specified distribution\n",
    "    no_train = [x for x in lst if x not in train_split]\n",
    "    #makes a list of each image not in the train list\n",
    "    test_split = list(np.random.choice(no_train, size=test_size, replace=False))\n",
    "    #adds a number of random images to test list equal to specified distribution\n",
    "    val_split = [x for x in no_train if x not in test_split]\n",
    "    #adds all leftover images not in test or train lists ti validation list\n",
    "    return train_split, test_split, val_split"
   ]
  },
  {
   "cell_type": "code",
   "execution_count": 10,
   "metadata": {},
   "outputs": [],
   "source": [
    "def create_folders():\n",
    "    \n",
    "    for path in split_paths:\n",
    "        if os.path.isdir(path):\n",
    "            shutil.rmtree(path)\n",
    "    for path in split_paths:\n",
    "        os.mkdir(path)"
   ]
  },
  {
   "cell_type": "code",
   "execution_count": 9,
   "metadata": {},
   "outputs": [],
   "source": [
    "def split_data(train=.90, test=.09, val=.01):\n",
    "    \n",
    "    create_folders()\n",
    "    images_folders = os.listdir(images_path)\n",
    "    images_folders = [folder for folder in images_folders if folder != '.DS_Store']\n",
    "\n",
    "       \n",
    "        \n",
    "    for folder in images_folders:\n",
    "        target_name = clean_target_file_name(folder)\n",
    "        #each img goes through ^^^ to remove all before '-'\n",
    "        target_path = os.path.join(images_path, folder)\n",
    "        #makes a path from the images folder to the dog folder inside being worked on\n",
    "        target_images = os.listdir(target_path)\n",
    "        #makes a list of the names of the images from the 'target folder'\n",
    "        train_split, test_split, val_split = train_test_val_split(target_images, train=train, test=test, val=val)\n",
    "        #splits up the images from the OG image folder to a test, train, and val folder\n",
    "        target_train_path = os.path.join(train_path, target_name)\n",
    "        target_test_path = os.path.join(test_path, target_name)\n",
    "        target_val_path = os.path.join(val_path, target_name)\n",
    "        #makes paths to respective train, test, and validation folders\n",
    "        move_files(target_train_path, target_path, train_split)\n",
    "        move_files(target_test_path, target_path, test_split)\n",
    "        move_files(target_val_path, target_path, val_split)\n",
    "        #makes copies of images and sends them to appropirate folders\n"
   ]
  },
  {
   "cell_type": "code",
   "execution_count": 6,
   "metadata": {},
   "outputs": [],
   "source": [
    "def model_prep(breed):\n",
    "    \n",
    "    test_breed = os.path.join(test_path, breed)\n",
    "    train_breed = os.path.join(train_path, breed)\n",
    "    val_breed = os.path.join(val_path, breed)\n",
    "    \n",
    "    Ex_test_breed = os.path.join(Ex_test_path, breed)\n",
    "    Ex_train_breed = os.path.join(Ex_train_path, breed)\n",
    "    Ex_val_breed = os.path.join(Ex_val_path, breed)\n",
    "    \n",
    "    shutil.copytree(test_breed, Ex_test_breed)\n",
    "    shutil.copytree(train_breed, Ex_train_breed)\n",
    "    shutil.copytree(val_breed, Ex_val_breed)"
   ]
  },
  {
   "cell_type": "markdown",
   "metadata": {},
   "source": [
    "## Model Preperation"
   ]
  },
  {
   "cell_type": "markdown",
   "metadata": {},
   "source": [
    "Resets the ExModeling folders for when you change splits:"
   ]
  },
  {
   "cell_type": "code",
   "execution_count": 7,
   "metadata": {},
   "outputs": [],
   "source": [
    "shutil.rmtree(Ex_test_path)\n",
    "shutil.rmtree(Ex_train_path)\n",
    "shutil.rmtree(Ex_val_path)\n",
    "\n",
    "os.mkdir(Ex_test_path)\n",
    "os.mkdir(Ex_train_path)\n",
    "os.mkdir(Ex_val_path)"
   ]
  },
  {
   "cell_type": "markdown",
   "metadata": {},
   "source": [
    "First Simple Model:"
   ]
  },
  {
   "cell_type": "code",
   "execution_count": null,
   "metadata": {},
   "outputs": [],
   "source": [
    "model_prep('bluetick')\n",
    "model_prep('boxer')\n",
    "model_prep('Great_Dane')"
   ]
  },
  {
   "cell_type": "markdown",
   "metadata": {},
   "source": [
    "Model 1:"
   ]
  },
  {
   "cell_type": "code",
   "execution_count": 8,
   "metadata": {},
   "outputs": [],
   "source": [
    "model_prep('golden_retriever')\n",
    "model_prep('Pembroke')\n",
    "model_prep('pug')"
   ]
  },
  {
   "cell_type": "markdown",
   "metadata": {},
   "source": [
    "Model 2 - Model e:\n",
    "\n",
    "(Just run this to add these breeds in additon to those in the cell above)"
   ]
  },
  {
   "cell_type": "code",
   "execution_count": 9,
   "metadata": {},
   "outputs": [],
   "source": [
    "model_prep('Pomeranian')\n",
    "model_prep('Saluki')"
   ]
  },
  {
   "cell_type": "markdown",
   "metadata": {},
   "source": [
    "Final Model:"
   ]
  },
  {
   "cell_type": "code",
   "execution_count": 8,
   "metadata": {},
   "outputs": [],
   "source": [
    "model_prep('Maltese_dog')\n",
    "model_prep('Afghan_hound')"
   ]
  },
  {
   "cell_type": "code",
   "execution_count": null,
   "metadata": {},
   "outputs": [],
   "source": []
  }
 ],
 "metadata": {
  "kernelspec": {
   "display_name": "learn-env",
   "language": "python",
   "name": "learn-env"
  },
  "language_info": {
   "codemirror_mode": {
    "name": "ipython",
    "version": 3
   },
   "file_extension": ".py",
   "mimetype": "text/x-python",
   "name": "python",
   "nbconvert_exporter": "python",
   "pygments_lexer": "ipython3",
   "version": "3.6.9"
  }
 },
 "nbformat": 4,
 "nbformat_minor": 4
}
