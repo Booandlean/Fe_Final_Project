{
 "cells": [
  {
   "cell_type": "markdown",
   "metadata": {},
   "source": [
    "## Imports"
   ]
  },
  {
   "cell_type": "code",
   "execution_count": 11,
   "metadata": {},
   "outputs": [
    {
     "name": "stdout",
     "output_type": "stream",
     "text": [
      "Collecting pillow\n",
      "  Downloading Pillow-8.0.0-cp37-cp37m-macosx_10_10_x86_64.whl (2.2 MB)\n",
      "\u001b[K     |████████████████████████████████| 2.2 MB 2.3 MB/s eta 0:00:01\n",
      "\u001b[?25hInstalling collected packages: pillow\n",
      "Successfully installed pillow-8.0.0\n",
      "Note: you may need to restart the kernel to use updated packages.\n"
     ]
    }
   ],
   "source": [
    "pip install pillow"
   ]
  },
  {
   "cell_type": "code",
   "execution_count": 45,
   "metadata": {},
   "outputs": [],
   "source": [
    "import numpy as np\n",
    "import pandas as pd\n",
    "import os\n",
    "import sys\n",
    "import matplotlib.pyplot as plt\n",
    "import seaborn as sns\n",
    "#Keras imports\n",
    "import tensorflow as tf\n",
    "import tensorflow.keras.preprocessing as preprocessing\n",
    "from keras.preprocessing.image import ImageDataGenerator\n",
    "from keras import layers\n",
    "from keras import models\n",
    "from keras import optimizers\n",
    "from PIL import Image"
   ]
  },
  {
   "cell_type": "markdown",
   "metadata": {},
   "source": [
    "## Pathways"
   ]
  },
  {
   "cell_type": "code",
   "execution_count": 18,
   "metadata": {},
   "outputs": [],
   "source": [
    "not_path = os.listdir(\"../Data/Images\")\n",
    "not_path.remove(\".DS_Store\") #it likes to pop up from time to time\n",
    "\n",
    "data_path = os.path.join('..', 'Data')\n",
    "\n",
    "train_dir = os.path.join(data_path, 'ExModeling_train')\n",
    "test_dir = os.path.join(data_path, 'ExModeling_test')\n",
    "val_dir = os.path.join(data_path, 'ExModeling_val')\n",
    "\n",
    "Ex_test_path = os.path.join(data_path, 'ExModeling_test')\n",
    "Ex_train_path = os.path.join(data_path, 'ExModeling_train')\n",
    "Ex_val_path = os.path.join(data_path, 'ExModeling_val')"
   ]
  },
  {
   "cell_type": "markdown",
   "metadata": {},
   "source": [
    "## vis method"
   ]
  },
  {
   "cell_type": "code",
   "execution_count": 3,
   "metadata": {},
   "outputs": [],
   "source": [
    "def vis_history(history): \n",
    "    fig, ax = plt.subplots(1, 2, figsize=(15,5))\n",
    "    ax[0].set_title('loss')\n",
    "    ax[0].plot(history.epoch, history.history[\"loss\"], label=\"Train loss\")\n",
    "    ax[0].plot(history.epoch, history.history[\"val_loss\"], label=\"Validation loss\")\n",
    "    ax[1].set_title('acc')\n",
    "    ax[1].plot(history.epoch, history.history[\"acc\"], label=\"Train acc\")\n",
    "    ax[1].plot(history.epoch, history.history[\"val_acc\"], label=\"Validation acc\")\n",
    "    ax[0].legend()\n",
    "    ax[1].legend()"
   ]
  },
  {
   "cell_type": "markdown",
   "metadata": {},
   "source": [
    "## Modeling"
   ]
  },
  {
   "cell_type": "code",
   "execution_count": 76,
   "metadata": {},
   "outputs": [],
   "source": [
    "img_size = 150\n",
    "bch_size = 20"
   ]
  },
  {
   "cell_type": "code",
   "execution_count": 87,
   "metadata": {},
   "outputs": [
    {
     "name": "stdout",
     "output_type": "stream",
     "text": [
      "Found 752 images belonging to 4 classes.\n",
      "Found 98 images belonging to 4 classes.\n",
      "Found 92 images belonging to 4 classes.\n"
     ]
    }
   ],
   "source": [
    "img_gen = ImageDataGenerator(rescale=1./255, horizontal_flip=False, vertical_flip=False)\n",
    "\n",
    "train_generator = img_gen.flow_from_directory(\n",
    "    train_dir,\n",
    "    target_size=(img_size, img_size),\n",
    "    color_mode='rgb',\n",
    "    batch_size=bch_size,\n",
    "    class_mode='categorical')\n",
    "\n",
    "validation_generator = img_gen.flow_from_directory(\n",
    "    val_dir, \n",
    "    target_size=(img_size, img_size), \n",
    "    color_mode='rgb',\n",
    "    batch_size=bch_size, \n",
    "    class_mode='categorical')\n",
    "\n",
    "test_generator = img_gen.flow_from_directory(\n",
    "    test_dir,\n",
    "    target_size=(img_size, img_size),\n",
    "    color_mode='rgb',\n",
    "    batch_size=bch_size,\n",
    "    class_mode='categorical',\n",
    "    shuffle=False)\n"
   ]
  },
  {
   "cell_type": "code",
   "execution_count": 6,
   "metadata": {
    "scrolled": true
   },
   "outputs": [
    {
     "name": "stderr",
     "output_type": "stream",
     "text": [
      "WARNING: Logging before flag parsing goes to stderr.\n",
      "W1018 12:50:39.026557 4728434112 deprecation_wrapper.py:119] From /Users/adamroth/opt/anaconda3/envs/learn-env/lib/python3.6/site-packages/keras/backend/tensorflow_backend.py:74: The name tf.get_default_graph is deprecated. Please use tf.compat.v1.get_default_graph instead.\n",
      "\n",
      "W1018 12:50:39.063192 4728434112 deprecation_wrapper.py:119] From /Users/adamroth/opt/anaconda3/envs/learn-env/lib/python3.6/site-packages/keras/backend/tensorflow_backend.py:517: The name tf.placeholder is deprecated. Please use tf.compat.v1.placeholder instead.\n",
      "\n",
      "W1018 12:50:39.073781 4728434112 deprecation_wrapper.py:119] From /Users/adamroth/opt/anaconda3/envs/learn-env/lib/python3.6/site-packages/keras/backend/tensorflow_backend.py:4138: The name tf.random_uniform is deprecated. Please use tf.random.uniform instead.\n",
      "\n",
      "W1018 12:50:39.134627 4728434112 deprecation_wrapper.py:119] From /Users/adamroth/opt/anaconda3/envs/learn-env/lib/python3.6/site-packages/keras/backend/tensorflow_backend.py:3976: The name tf.nn.max_pool is deprecated. Please use tf.nn.max_pool2d instead.\n",
      "\n",
      "W1018 12:50:39.289649 4728434112 deprecation_wrapper.py:119] From /Users/adamroth/opt/anaconda3/envs/learn-env/lib/python3.6/site-packages/keras/optimizers.py:790: The name tf.train.Optimizer is deprecated. Please use tf.compat.v1.train.Optimizer instead.\n",
      "\n",
      "W1018 12:50:39.302051 4728434112 deprecation_wrapper.py:119] From /Users/adamroth/opt/anaconda3/envs/learn-env/lib/python3.6/site-packages/keras/backend/tensorflow_backend.py:3295: The name tf.log is deprecated. Please use tf.math.log instead.\n",
      "\n",
      "W1018 12:50:39.514426 4728434112 deprecation.py:323] From /Users/adamroth/opt/anaconda3/envs/learn-env/lib/python3.6/site-packages/tensorflow/python/ops/math_grad.py:1250: add_dispatch_support.<locals>.wrapper (from tensorflow.python.ops.array_ops) is deprecated and will be removed in a future version.\n",
      "Instructions for updating:\n",
      "Use tf.where in 2.0, which has the same broadcast rule as np.where\n",
      "W1018 12:50:39.709203 4728434112 deprecation_wrapper.py:119] From /Users/adamroth/opt/anaconda3/envs/learn-env/lib/python3.6/site-packages/keras/backend/tensorflow_backend.py:986: The name tf.assign_add is deprecated. Please use tf.compat.v1.assign_add instead.\n",
      "\n"
     ]
    },
    {
     "name": "stdout",
     "output_type": "stream",
     "text": [
      "Epoch 1/10\n",
      "100/100 [==============================] - 197s 2s/step - loss: 47.1969 - acc: 0.3433 - val_loss: 35.0565 - val_acc: 0.3163\n",
      "Epoch 2/10\n",
      "100/100 [==============================] - 1120s 11s/step - loss: 26.1198 - acc: 0.4772 - val_loss: 18.2588 - val_acc: 0.5918\n",
      "Epoch 3/10\n",
      "100/100 [==============================] - 3010s 30s/step - loss: 12.8735 - acc: 0.5453 - val_loss: 8.3936 - val_acc: 0.3673\n",
      "Epoch 4/10\n",
      "100/100 [==============================] - 715s 7s/step - loss: 5.4297 - acc: 0.5550 - val_loss: 3.6168 - val_acc: 0.4490\n",
      "Epoch 5/10\n",
      "100/100 [==============================] - 210s 2s/step - loss: 2.6763 - acc: 0.5907 - val_loss: 2.0938 - val_acc: 0.6429\n",
      "Epoch 6/10\n",
      "100/100 [==============================] - 195s 2s/step - loss: 1.9426 - acc: 0.6030 - val_loss: 1.7141 - val_acc: 0.6531\n",
      "Epoch 7/10\n",
      "100/100 [==============================] - 1000s 10s/step - loss: 1.6282 - acc: 0.6236 - val_loss: 1.4246 - val_acc: 0.7347\n",
      "Epoch 8/10\n",
      "100/100 [==============================] - 4374s 44s/step - loss: 1.4626 - acc: 0.6212 - val_loss: 1.2884 - val_acc: 0.6837\n",
      "Epoch 9/10\n",
      "100/100 [==============================] - 1247s 12s/step - loss: 1.3617 - acc: 0.6368 - val_loss: 1.2214 - val_acc: 0.7347\n",
      "Epoch 10/10\n",
      "100/100 [==============================] - 902s 9s/step - loss: 1.2941 - acc: 0.6482 - val_loss: 1.1372 - val_acc: 0.6939\n"
     ]
    }
   ],
   "source": [
    "fsm_ = models.Sequential() \n",
    "fsm_.add(layers.Conv2D(32, (3, 3), activation='relu', input_shape=(img_size, img_size, 3)))\n",
    "fsm_.add(layers.Conv2D(64, (3, 3), activation='relu'))\n",
    "fsm_.add(layers.MaxPooling2D((2, 2)))\n",
    "fsm_.add(layers.Conv2D(128, (3, 3), activation='relu'))\n",
    "fsm_.add(layers.MaxPooling2D((2, 2)))\n",
    "fsm_.add(layers.Conv2D(128, (3, 3)))\n",
    "fsm_.add(layers.MaxPooling2D((2, 2)))\n",
    "fsm_.add(layers.Conv2D(256, (3, 3), activation='relu', kernel_regularizer =tf.keras.regularizers.l1( l=0.01) ))\n",
    "fsm_.add(layers.MaxPooling2D((2, 2)))\n",
    "fsm_.add(layers.Flatten())\n",
    "fsm_.add(layers.Dense(64, activation='relu'))\n",
    "fsm_.add(layers.Dense(64, activation='relu'))\n",
    "fsm_.add(layers.Dense(128, activation='relu',))\n",
    "fsm_.add(layers.Dense(4, activation='softmax'))\n",
    "\n",
    "fsm_.compile(loss='categorical_crossentropy', optimizer=optimizers.RMSprop(lr=1e-4), metrics=['acc'])\n",
    "\n",
    "history_fsm = fsm_.fit_generator(\n",
    "    train_generator,\n",
    "    steps_per_epoch=100,\n",
    "    epochs=10, \n",
    "    validation_data=validation_generator,\n",
    "    validation_steps=50)"
   ]
  },
  {
   "cell_type": "code",
   "execution_count": 7,
   "metadata": {
    "scrolled": true
   },
   "outputs": [
    {
     "data": {
      "image/png": "[encoded data removed]",
      "text/plain": [
       "<Figure size 1080x360 with 2 Axes>"
      ]
     },
     "metadata": {
      "needs_background": "light"
     },
     "output_type": "display_data"
    }
   ],
   "source": [
    "vis_history(history_fsm)"
   ]
  },
  {
   "cell_type": "code",
   "execution_count": 101,
   "metadata": {},
   "outputs": [
    {
     "name": "stdout",
     "output_type": "stream",
     "text": [
      "0.5978260778862498 1.3621025759240855\n"
     ]
    }
   ],
   "source": [
    "test_loss, test_acc = fsm_.evaluate_generator(test_generator, steps=50)\n",
    "print(test_acc, test_loss)"
   ]
  },
  {
   "cell_type": "markdown",
   "metadata": {},
   "source": [
    "Note: as there are only 4 breeds, I might as well test them one by one to see in what way the model may be getting things wrong"
   ]
  },
  {
   "cell_type": "code",
   "execution_count": 96,
   "metadata": {},
   "outputs": [],
   "source": [
    "def pred_breed_im(breed):\n",
    "    \n",
    "    abs_path = '../Data/ExModeling_val/'\n",
    "    dog_path = os.path.join(abs_path, breed)\n",
    "    \n",
    "    val_images = os.listdir(dog_path)\n",
    "    \n",
    "    val_data = []\n",
    "\n",
    "    for image in val_images:\n",
    "\n",
    "        img_path = os.path.join(dog_path, image)\n",
    "\n",
    "        im = Image.open(img_path)\n",
    "        \n",
    "        #im_as_array = np.asarray(im)\n",
    "\n",
    "        val_data.append(im)\n",
    "        \n",
    "    #val_data_array = np.asarray(val_data)\n",
    "\n",
    "    return val_data#_array"
   ]
  },
  {
   "cell_type": "markdown",
   "metadata": {},
   "source": [
    "That went better than I though it would, this model was unchanged from the final one of my capstone project yet netted a much better accuracy score (while keeping in mind that I was using 5 rather than 4 breeds most of the time)\n",
    "\n",
    "It also looks like it could maybe have gone a few more epochs, next time I'll change up the image size to the average of all the traning images and run it for 15 epochs"
   ]
  }
 ],
 "metadata": {
  "kernelspec": {
   "display_name": "learn-env",
   "language": "python",
   "name": "learn-env"
  },
  "language_info": {
   "codemirror_mode": {
    "name": "ipython",
    "version": 3
   },
   "file_extension": ".py",
   "mimetype": "text/x-python",
   "name": "python",
   "nbconvert_exporter": "python",
   "pygments_lexer": "ipython3",
   "version": "3.6.9"
  }
 },
 "nbformat": 4,
 "nbformat_minor": 4
}
