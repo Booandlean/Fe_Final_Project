{
 "cells": [
  {
   "cell_type": "markdown",
   "metadata": {},
   "source": [
    "## Imports"
   ]
  },
  {
   "cell_type": "code",
   "execution_count": 2,
   "metadata": {},
   "outputs": [],
   "source": [
    "import numpy as np\n",
    "import pandas as pd\n",
    "import os\n",
    "import sys\n",
    "import shutil\n",
    "import matplotlib.pyplot as plt\n",
    "import seaborn as sns"
   ]
  },
  {
   "cell_type": "markdown",
   "metadata": {},
   "source": [
    "## Pathways and Image Directories"
   ]
  },
  {
   "cell_type": "code",
   "execution_count": 3,
   "metadata": {},
   "outputs": [],
   "source": [
    "#sys.path.append(\"../\") #uncomment and run this once and ONLY once"
   ]
  },
  {
   "cell_type": "code",
   "execution_count": 4,
   "metadata": {},
   "outputs": [],
   "source": [
    "data_path = os.path.join('..', 'Data')\n",
    "\n",
    "images_path = os.path.join(data_path, 'Images')\n",
    "\n",
    "test_path = os.path.join(data_path, 'test_images')\n",
    "train_path = os.path.join(data_path, 'train_images')\n",
    "val_path = os.path.join(data_path, 'val_images')\n",
    "\n",
    "image_folders = os.listdir(images_path)\n",
    "\n",
    "test_folders = os.listdir(test_path)\n",
    "train_folders = os.listdir(train_path)\n",
    "val_folders = os.listdir(val_path)\n",
    "\n"
   ]
  },
  {
   "cell_type": "code",
   "execution_count": 5,
   "metadata": {},
   "outputs": [],
   "source": [
    "image_folders.remove('.DS_Store')"
   ]
  },
  {
   "cell_type": "markdown",
   "metadata": {},
   "source": [
    "## Cleaning Methods"
   ]
  },
  {
   "cell_type": "code",
   "execution_count": null,
   "metadata": {},
   "outputs": [],
   "source": [
    "def clean_target_file_name(name):\n",
    "    return ''.join(name.split('-')[1:])\n",
    "#takes messy filenames such as 'n02085620-Chihuahua', and returns all text after '-'"
   ]
  },
  {
   "cell_type": "code",
   "execution_count": null,
   "metadata": {},
   "outputs": [],
   "source": [
    "def move_files(destination, origin, file_names):\n",
    "    os.mkdir(destination)\n",
    "    #creates a directory if it doesn't exist already \n",
    "    for file in file_names:\n",
    "    #iterates through images in dog files\n",
    "        file_path = os.path.join(origin, file)\n",
    "        #creates a path from specified path to the OG image file\n",
    "        destination_path = os.path.join(destination, file)\n",
    "        #creates a path from the new dir to the OG image file\n",
    "        shutil.copyfile(file_path, destination_path)\n",
    "        #copies OG image file to the new dir"
   ]
  },
  {
   "cell_type": "code",
   "execution_count": null,
   "metadata": {},
   "outputs": [],
   "source": [
    "def train_test_val_split(lst, train=.90, test=.09, val=.01):\n",
    "    #lst is the list from directory made from the OG images folder\n",
    "    train_size = int(train * len(lst))\n",
    "    test_size = int(test * len(lst))\n",
    "    val_size = int(val * len(lst))\n",
    "    #determines distribution of images to train, test, and validation folders based on decimals given. \n",
    "    train_split = list(np.random.choice(lst, size=train_size, replace=False))\n",
    "    #adds a number of random images to train list equal to specified distribution\n",
    "    no_train = [x for x in lst if x not in train_split]\n",
    "    #makes a list of each image not in the train list\n",
    "    test_split = list(np.random.choice(no_train, size=test_size, replace=False))\n",
    "    #adds a number of random images to test list equal to specified distribution\n",
    "    val_split = [x for x in no_train if x not in test_split]\n",
    "    #adds all leftover images not in test or train lists ti validation list\n",
    "    return train_split, test_split, val_split"
   ]
  },
  {
   "cell_type": "code",
   "execution_count": null,
   "metadata": {},
   "outputs": [],
   "source": [
    "for folder in image_folders:\n",
    "    target_name = clean_target_file_name(folder)\n",
    "    #each img goes through ^^^ to remove all before '-'\n",
    "    target_path = os.path.join(images_path, folder)\n",
    "    #makes a path from the images folder to the dog folder inside being worked on\n",
    "    target_images = os.listdir(target_path)\n",
    "    #makes a list of the names of the images from the 'target folder'\n",
    "    train, test, val = train_test_val_split(target_images)\n",
    "    #splits up the images from the OG image folder to a test, train, and val folder\n",
    "    target_train_path = os.path.join(train_path, target_name)\n",
    "    target_test_path = os.path.join(test_path, target_name)\n",
    "    target_val_path = os.path.join(val_path, target_name)\n",
    "    #makes paths to respective train, test, and validation folders\n",
    "    move_files(target_train_path, target_path, train)\n",
    "    move_files(target_test_path, target_path, test)\n",
    "    move_files(target_val_path, target_path, val)\n",
    "    #makes copies of images and sends them to appropirate folders"
   ]
  },
  {
   "cell_type": "code",
   "execution_count": null,
   "metadata": {},
   "outputs": [],
   "source": [
    "#Now, there should be a train, test, and validation folder with all the images you need"
   ]
  }
 ],
 "metadata": {
  "kernelspec": {
   "display_name": "learn-env",
   "language": "python",
   "name": "learn-env"
  },
  "language_info": {
   "codemirror_mode": {
    "name": "ipython",
    "version": 3
   },
   "file_extension": ".py",
   "mimetype": "text/x-python",
   "name": "python",
   "nbconvert_exporter": "python",
   "pygments_lexer": "ipython3",
   "version": "3.6.9"
  }
 },
 "nbformat": 4,
 "nbformat_minor": 4
}
