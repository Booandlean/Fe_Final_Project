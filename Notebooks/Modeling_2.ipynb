{
 "cells": [
  {
   "cell_type": "markdown",
   "metadata": {},
   "source": [
    "## imports"
   ]
  },
  {
   "cell_type": "code",
   "execution_count": 1,
   "metadata": {},
   "outputs": [
    {
     "name": "stderr",
     "output_type": "stream",
     "text": [
      "Using TensorFlow backend.\n"
     ]
    }
   ],
   "source": [
    "import numpy as np\n",
    "import pandas as pd\n",
    "import os\n",
    "import sys\n",
    "import matplotlib.pyplot as plt\n",
    "import seaborn as sns\n",
    "#Keras imports\n",
    "import tensorflow as tf\n",
    "import tensorflow.keras.preprocessing as preprocessing\n",
    "from keras.preprocessing.image import ImageDataGenerator\n",
    "from keras import layers\n",
    "from keras import models\n",
    "from keras import optimizers"
   ]
  },
  {
   "cell_type": "code",
   "execution_count": 19,
   "metadata": {},
   "outputs": [],
   "source": [
    "#!pip install lime\n",
    "#import sklearn\n",
    "import lime \n",
    "from lime import lime_image\n",
    "from sklearn.preprocessing import LabelEncoder\n",
    "import glob"
   ]
  },
  {
   "cell_type": "markdown",
   "metadata": {},
   "source": [
    "## pathways"
   ]
  },
  {
   "cell_type": "code",
   "execution_count": 3,
   "metadata": {},
   "outputs": [],
   "source": [
    "not_path = os.listdir(\"../Data/Images\")\n",
    "not_path.remove(\".DS_Store\") #it likes to pop up from time to time\n",
    "path_to_data = \"../Data\"\n",
    "\n",
    "data_path = os.path.join('..', 'Data')\n",
    "\n",
    "# test_path = os.path.join(data_path, 'test_images_3')\n",
    "# train_path = os.path.join(data_path, 'train_images_3')\n",
    "# val_path = os.path.join(data_path, 'val_images_3')\n",
    "\n",
    "\n",
    "# images_path = os.path.join(data_path, 'Images')\n",
    "# image_folders = os.listdir(images_path)\n",
    "# test_folders = os.listdir(test_path)\n",
    "# train_folders = os.listdir(train_path)\n",
    "# val_folders = os.listdir(val_path)"
   ]
  },
  {
   "cell_type": "code",
   "execution_count": 4,
   "metadata": {},
   "outputs": [],
   "source": [
    "train_dir = os.path.join(data_path, 'ExModeling_train')\n",
    "test_dir = os.path.join(data_path, 'ExModeling_test')\n",
    "val_dir = os.path.join(data_path, 'ExModeling_val')"
   ]
  },
  {
   "cell_type": "markdown",
   "metadata": {},
   "source": [
    "## vis method"
   ]
  },
  {
   "cell_type": "code",
   "execution_count": 5,
   "metadata": {},
   "outputs": [],
   "source": [
    "#from https://medium.com/intelligentmachines/convolutional-neural-network-and-regularization-techniques-with-tensorflow-and-keras-5a09e6e65dc7\n",
    "#had to tweak some things to get it to work\n",
    "def vis_history(history): \n",
    "    fig, ax = plt.subplots(1, 2, figsize=(15,5))\n",
    "    ax[0].set_title('loss')\n",
    "    ax[0].plot(history.epoch, history.history[\"loss\"], label=\"Train loss\")\n",
    "    ax[0].plot(history.epoch, history.history[\"val_loss\"], label=\"Validation loss\")\n",
    "    ax[1].set_title('acc')\n",
    "    ax[1].plot(history.epoch, history.history[\"acc\"], label=\"Train acc\")\n",
    "    ax[1].plot(history.epoch, history.history[\"val_acc\"], label=\"Validation acc\")\n",
    "    ax[0].legend()\n",
    "    ax[1].legend()"
   ]
  },
  {
   "cell_type": "markdown",
   "metadata": {},
   "source": [
    "## modeling part 2"
   ]
  },
  {
   "cell_type": "markdown",
   "metadata": {},
   "source": [
    "This time I'm starting with only 2 breeds, the Afgan Hound and the Maltese Dog, as they have the most images"
   ]
  },
  {
   "cell_type": "code",
   "execution_count": 10,
   "metadata": {},
   "outputs": [],
   "source": [
    "img_size = 150\n",
    "bch_size = 20"
   ]
  },
  {
   "cell_type": "code",
   "execution_count": 11,
   "metadata": {},
   "outputs": [
    {
     "name": "stdout",
     "output_type": "stream",
     "text": [
      "Found 441 images belonging to 2 classes.\n",
      "Found 27 images belonging to 2 classes.\n",
      "Found 23 images belonging to 2 classes.\n"
     ]
    }
   ],
   "source": [
    "img_gen = ImageDataGenerator(rescale=1./255, horizontal_flip=True, vertical_flip=True)\n",
    "\n",
    "train_generator = img_gen.flow_from_directory(\n",
    "    train_dir,\n",
    "    target_size=(img_size, img_size),\n",
    "    color_mode='rgb',\n",
    "    batch_size=bch_size,\n",
    "    class_mode='categorical')\n",
    "\n",
    "validation_generator = img_gen.flow_from_directory(\n",
    "    val_dir, \n",
    "    target_size=(img_size, img_size), \n",
    "    color_mode='rgb',\n",
    "    batch_size=bch_size, \n",
    "    class_mode='categorical')\n",
    "\n",
    "test_generator = img_gen.flow_from_directory(\n",
    "    test_dir,\n",
    "    target_size=(img_size, img_size),\n",
    "    color_mode='rgb',\n",
    "    batch_size=bch_size,\n",
    "    class_mode='categorical',\n",
    "    shuffle=False)\n"
   ]
  },
  {
   "cell_type": "markdown",
   "metadata": {},
   "source": [
    "This is the same as model_e from first notebook, but with less classes that contain more images"
   ]
  },
  {
   "cell_type": "code",
   "execution_count": 12,
   "metadata": {},
   "outputs": [
    {
     "name": "stderr",
     "output_type": "stream",
     "text": [
      "WARNING: Logging before flag parsing goes to stderr.\n",
      "W0820 11:45:16.672187 4449635776 deprecation_wrapper.py:119] From /Users/adamroth/opt/anaconda3/envs/learn-env/lib/python3.6/site-packages/keras/backend/tensorflow_backend.py:74: The name tf.get_default_graph is deprecated. Please use tf.compat.v1.get_default_graph instead.\n",
      "\n",
      "W0820 11:45:16.788094 4449635776 deprecation_wrapper.py:119] From /Users/adamroth/opt/anaconda3/envs/learn-env/lib/python3.6/site-packages/keras/backend/tensorflow_backend.py:517: The name tf.placeholder is deprecated. Please use tf.compat.v1.placeholder instead.\n",
      "\n",
      "W0820 11:45:16.820133 4449635776 deprecation_wrapper.py:119] From /Users/adamroth/opt/anaconda3/envs/learn-env/lib/python3.6/site-packages/keras/backend/tensorflow_backend.py:4138: The name tf.random_uniform is deprecated. Please use tf.random.uniform instead.\n",
      "\n",
      "W0820 11:45:16.933185 4449635776 deprecation_wrapper.py:119] From /Users/adamroth/opt/anaconda3/envs/learn-env/lib/python3.6/site-packages/keras/backend/tensorflow_backend.py:3976: The name tf.nn.max_pool is deprecated. Please use tf.nn.max_pool2d instead.\n",
      "\n",
      "W0820 11:45:17.327230 4449635776 deprecation_wrapper.py:119] From /Users/adamroth/opt/anaconda3/envs/learn-env/lib/python3.6/site-packages/keras/optimizers.py:790: The name tf.train.Optimizer is deprecated. Please use tf.compat.v1.train.Optimizer instead.\n",
      "\n",
      "W0820 11:45:17.345973 4449635776 deprecation_wrapper.py:119] From /Users/adamroth/opt/anaconda3/envs/learn-env/lib/python3.6/site-packages/keras/backend/tensorflow_backend.py:3295: The name tf.log is deprecated. Please use tf.math.log instead.\n",
      "\n",
      "W0820 11:45:17.804394 4449635776 deprecation.py:323] From /Users/adamroth/opt/anaconda3/envs/learn-env/lib/python3.6/site-packages/tensorflow/python/ops/math_grad.py:1250: add_dispatch_support.<locals>.wrapper (from tensorflow.python.ops.array_ops) is deprecated and will be removed in a future version.\n",
      "Instructions for updating:\n",
      "Use tf.where in 2.0, which has the same broadcast rule as np.where\n",
      "W0820 11:45:18.310753 4449635776 deprecation_wrapper.py:119] From /Users/adamroth/opt/anaconda3/envs/learn-env/lib/python3.6/site-packages/keras/backend/tensorflow_backend.py:986: The name tf.assign_add is deprecated. Please use tf.compat.v1.assign_add instead.\n",
      "\n"
     ]
    },
    {
     "name": "stdout",
     "output_type": "stream",
     "text": [
      "Epoch 1/10\n",
      "100/100 [==============================] - 318s 3s/step - loss: 46.4509 - acc: 0.6736 - val_loss: 34.1782 - val_acc: 0.8800\n",
      "Epoch 2/10\n",
      "100/100 [==============================] - 231s 2s/step - loss: 25.2242 - acc: 0.7805 - val_loss: 17.1313 - val_acc: 0.7778\n",
      "Epoch 3/10\n",
      "100/100 [==============================] - 229s 2s/step - loss: 11.4096 - acc: 0.8295 - val_loss: 6.6181 - val_acc: 0.7778\n",
      "Epoch 4/10\n",
      "100/100 [==============================] - 218s 2s/step - loss: 3.8184 - acc: 0.8151 - val_loss: 1.8861 - val_acc: 0.8267\n",
      "Epoch 5/10\n",
      "100/100 [==============================] - 196s 2s/step - loss: 1.4410 - acc: 0.8171 - val_loss: 1.2272 - val_acc: 0.7304\n",
      "Epoch 6/10\n",
      "100/100 [==============================] - 192s 2s/step - loss: 1.0305 - acc: 0.8291 - val_loss: 1.1182 - val_acc: 0.8252\n",
      "Epoch 7/10\n",
      "100/100 [==============================] - 190s 2s/step - loss: 0.8365 - acc: 0.8589 - val_loss: 0.7964 - val_acc: 0.8474\n",
      "Epoch 8/10\n",
      "100/100 [==============================] - 196s 2s/step - loss: 0.7637 - acc: 0.8534 - val_loss: 0.7340 - val_acc: 0.8119\n",
      "Epoch 9/10\n",
      "100/100 [==============================] - 189s 2s/step - loss: 0.6980 - acc: 0.8514 - val_loss: 0.6712 - val_acc: 0.8385\n",
      "Epoch 10/10\n",
      "100/100 [==============================] - 191s 2s/step - loss: 0.6940 - acc: 0.8420 - val_loss: 0.9005 - val_acc: 0.7081\n"
     ]
    }
   ],
   "source": [
    "model_1 = models.Sequential() \n",
    "model_1.add(layers.Conv2D(32, (3, 3), activation='relu', input_shape=(img_size, img_size, 3)))\n",
    "model_1.add(layers.Conv2D(64, (3, 3), activation='relu'))\n",
    "model_1.add(layers.MaxPooling2D((2, 2)))\n",
    "model_1.add(layers.Conv2D(128, (3, 3), activation='relu'))\n",
    "model_1.add(layers.MaxPooling2D((2, 2)))\n",
    "model_1.add(layers.Conv2D(128, (3, 3)))\n",
    "model_1.add(layers.MaxPooling2D((2, 2)))\n",
    "model_1.add(layers.Conv2D(256, (3, 3), activation='relu', kernel_regularizer =tf.keras.regularizers.l1( l=0.01) ))\n",
    "model_1.add(layers.MaxPooling2D((2, 2)))\n",
    "model_1.add(layers.Flatten())\n",
    "model_1.add(layers.Dense(64, activation='relu'))\n",
    "model_1.add(layers.Dense(64, activation='relu'))\n",
    "model_1.add(layers.Dense(128, activation='relu',))\n",
    "model_1.add(layers.Dense(2, activation='softmax'))\n",
    "\n",
    "model_1.compile(loss='categorical_crossentropy', optimizer=optimizers.RMSprop(lr=1e-4), metrics=['acc'])\n",
    "\n",
    "history_1 = model_1.fit_generator(\n",
    "    train_generator,\n",
    "    steps_per_epoch=100,\n",
    "    epochs=10, \n",
    "    validation_data=validation_generator,\n",
    "    validation_steps=50)"
   ]
  },
  {
   "cell_type": "code",
   "execution_count": 14,
   "metadata": {
    "scrolled": true
   },
   "outputs": [
    {
     "data": {
      "text/plain": [
       "<matplotlib.legend.Legend at 0x7ff632c43588>"
      ]
     },
     "execution_count": 14,
     "metadata": {},
     "output_type": "execute_result"
    },
    {
     "data": {
      "image/png": "[encoded data removed]",
      "text/plain": [
       "<Figure size 936x648 with 1 Axes>"
      ]
     },
     "metadata": {
      "needs_background": "light"
     },
     "output_type": "display_data"
    }
   ],
   "source": [
    "\n",
    "fig, ax = plt.subplots(figsize=(13,9))\n",
    "ax.set_title('Final Model Accuracy', fontsize = 22)\n",
    "ax.plot(history_1.epoch, history_1.history[\"acc\"], label=\"Train Accuracy\")\n",
    "ax.plot(history_1.epoch, history_1.history[\"val_acc\"], label=\"Validation Accuracy\")\n",
    "plt.xlabel('epochs', fontsize = 17)\n",
    "plt.ylabel('Accuracy Score', fontsize = 17)\n",
    "ax.tick_params(axis = 'both', labelsize = 17)\n",
    "ax.legend(fontsize = 17)"
   ]
  },
  {
   "cell_type": "markdown",
   "metadata": {},
   "source": [
    "I'm feeling pretty satisfied with this one. I'm running short on time so for now, this is the final model"
   ]
  },
  {
   "cell_type": "markdown",
   "metadata": {},
   "source": [
    "## Evaluation"
   ]
  },
  {
   "cell_type": "code",
   "execution_count": 15,
   "metadata": {},
   "outputs": [],
   "source": [
    "test_loss, test_acc = model_1.evaluate_generator(test_generator, steps=50)"
   ]
  },
  {
   "cell_type": "code",
   "execution_count": 16,
   "metadata": {},
   "outputs": [
    {
     "name": "stdout",
     "output_type": "stream",
     "text": [
      "0.8452173963837002 0.7925125012190446\n"
     ]
    }
   ],
   "source": [
    "print(test_acc, test_loss)"
   ]
  },
  {
   "cell_type": "markdown",
   "metadata": {},
   "source": [
    "New stuff"
   ]
  },
  {
   "cell_type": "code",
   "execution_count": 26,
   "metadata": {},
   "outputs": [
    {
     "name": "stdout",
     "output_type": "stream",
     "text": [
      "Collecting opencv-python\n",
      "\u001b[?25l  Downloading https://files.pythonhosted.org/packages/61/ce/c4564df74870fc9ad6752da874af7a2d662a57ce3c3f596f2518f611a6c4/opencv_python-4.4.0.42-cp36-cp36m-macosx_10_13_x86_64.whl (52.2MB)\n",
      "\u001b[K     |████████████████████████████████| 52.2MB 24.3MB/s eta 0:00:01   |                                | 143kB 2.3MB/s eta 0:00:23     |██▋                             | 4.3MB 2.3MB/s eta 0:00:21\n",
      "\u001b[?25hRequirement already satisfied: numpy>=1.13.3 in /Users/adamroth/opt/anaconda3/envs/learn-env/lib/python3.6/site-packages (from opencv-python) (1.16.5)\n",
      "Installing collected packages: opencv-python\n",
      "Successfully installed opencv-python-4.4.0.42\n"
     ]
    }
   ],
   "source": [
    "# !pip install opencv-python\n",
    "# import cv2"
   ]
  },
  {
   "cell_type": "code",
   "execution_count": null,
   "metadata": {},
   "outputs": [],
   "source": [
    "# img = cv2.imread('../Data/ExModleing_test/Afghan_hound/)\n",
    "# img = cv2.imread('../Data/ExModleing_test/Afghan_hound/)\n",
    "# img = cv2.imread('../Data/ExModleing_test/Afghan_hound/)\n",
    "# img = cv2.imread('../Data/ExModleing_test/Afghan_hound/)\n",
    "# img = cv2.imread('../Data/ExModleing_test/Afghan_hound/)"
   ]
  },
  {
   "cell_type": "code",
   "execution_count": 20,
   "metadata": {},
   "outputs": [],
   "source": [
    "# explainer = lime_image.LimeImageExplainer()"
   ]
  },
  {
   "cell_type": "code",
   "execution_count": null,
   "metadata": {},
   "outputs": [],
   "source": []
  },
  {
   "cell_type": "code",
   "execution_count": null,
   "metadata": {},
   "outputs": [],
   "source": []
  },
  {
   "cell_type": "code",
   "execution_count": null,
   "metadata": {},
   "outputs": [],
   "source": []
  },
  {
   "cell_type": "code",
   "execution_count": null,
   "metadata": {},
   "outputs": [],
   "source": []
  }
 ],
 "metadata": {
  "kernelspec": {
   "display_name": "learn-env",
   "language": "python",
   "name": "learn-env"
  },
  "language_info": {
   "codemirror_mode": {
    "name": "ipython",
    "version": 3
   },
   "file_extension": ".py",
   "mimetype": "text/x-python",
   "name": "python",
   "nbconvert_exporter": "python",
   "pygments_lexer": "ipython3",
   "version": "3.6.9"
  }
 },
 "nbformat": 4,
 "nbformat_minor": 4
}
