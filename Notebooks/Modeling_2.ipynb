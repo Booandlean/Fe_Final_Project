{
 "cells": [
  {
   "cell_type": "markdown",
   "metadata": {},
   "source": [
    "## imports"
   ]
  },
  {
   "cell_type": "code",
   "execution_count": 1,
   "metadata": {},
   "outputs": [
    {
     "name": "stderr",
     "output_type": "stream",
     "text": [
      "Using TensorFlow backend.\n"
     ]
    }
   ],
   "source": [
    "import numpy as np\n",
    "import pandas as pd\n",
    "import os\n",
    "import sys\n",
    "import matplotlib.pyplot as plt\n",
    "import seaborn as sns\n",
    "#Keras imports\n",
    "import tensorflow as tf\n",
    "import tensorflow.keras.preprocessing as preprocessing\n",
    "from keras.preprocessing.image import ImageDataGenerator\n",
    "from keras import layers\n",
    "from keras import models\n",
    "from keras import optimizers"
   ]
  },
  {
   "cell_type": "markdown",
   "metadata": {},
   "source": [
    "## pathways"
   ]
  },
  {
   "cell_type": "code",
   "execution_count": 20,
   "metadata": {},
   "outputs": [],
   "source": [
    "not_path = os.listdir(\"../Data/Images\")\n",
    "not_path.remove(\".DS_Store\") #it likes to pop up from time to time\n",
    "path_to_data = \"../Data\"\n",
    "\n",
    "data_path = os.path.join('..', 'Data')\n",
    "\n",
    "# test_path = os.path.join(data_path, 'test_images_3')\n",
    "# train_path = os.path.join(data_path, 'train_images_3')\n",
    "# val_path = os.path.join(data_path, 'val_images_3')\n",
    "\n",
    "\n",
    "# images_path = os.path.join(data_path, 'Images')\n",
    "# image_folders = os.listdir(images_path)\n",
    "# test_folders = os.listdir(test_path)\n",
    "# train_folders = os.listdir(train_path)\n",
    "# val_folders = os.listdir(val_path)"
   ]
  },
  {
   "cell_type": "code",
   "execution_count": 21,
   "metadata": {},
   "outputs": [],
   "source": [
    "train_dir = os.path.join(data_path, 'ExModeling_train')\n",
    "test_dir = os.path.join(data_path, 'ExModeling_test')\n",
    "val_dir = os.path.join(data_path, 'ExModeling_val')"
   ]
  },
  {
   "cell_type": "markdown",
   "metadata": {},
   "source": [
    "## vis method"
   ]
  },
  {
   "cell_type": "code",
   "execution_count": 22,
   "metadata": {},
   "outputs": [],
   "source": [
    "#from https://medium.com/intelligentmachines/convolutional-neural-network-and-regularization-techniques-with-tensorflow-and-keras-5a09e6e65dc7\n",
    "#had to tweak some things to get it to work\n",
    "def vis_history(history): \n",
    "    fig, ax = plt.subplots(1, 2, figsize=(15,5))\n",
    "    ax[0].set_title('loss')\n",
    "    ax[0].plot(history.epoch, history.history[\"loss\"], label=\"Train loss\")\n",
    "    ax[0].plot(history.epoch, history.history[\"val_loss\"], label=\"Validation loss\")\n",
    "    ax[1].set_title('acc')\n",
    "    ax[1].plot(history.epoch, history.history[\"acc\"], label=\"Train acc\")\n",
    "    ax[1].plot(history.epoch, history.history[\"val_acc\"], label=\"Validation acc\")\n",
    "    ax[0].legend()\n",
    "    ax[1].legend()"
   ]
  },
  {
   "cell_type": "markdown",
   "metadata": {},
   "source": [
    "## modeling part 2"
   ]
  },
  {
   "cell_type": "markdown",
   "metadata": {},
   "source": [
    "This time I'm starting with only 2 breeds, the Afgan Hound and the Maltese Dog, as they have the most images"
   ]
  },
  {
   "cell_type": "code",
   "execution_count": 23,
   "metadata": {},
   "outputs": [],
   "source": [
    "img_size = 150\n",
    "bch_size = 20"
   ]
  },
  {
   "cell_type": "code",
   "execution_count": 24,
   "metadata": {},
   "outputs": [
    {
     "name": "stdout",
     "output_type": "stream",
     "text": [
      "Found 441 images belonging to 2 classes.\n",
      "Found 27 images belonging to 2 classes.\n",
      "Found 23 images belonging to 2 classes.\n"
     ]
    }
   ],
   "source": [
    "img_gen = ImageDataGenerator(rescale=1./255, horizontal_flip=True, vertical_flip=True)\n",
    "\n",
    "train_generator = img_gen.flow_from_directory(\n",
    "    train_dir,\n",
    "    target_size=(img_size, img_size),\n",
    "    color_mode='rgb',\n",
    "    batch_size=bch_size,\n",
    "    class_mode='categorical')\n",
    "\n",
    "validation_generator = img_gen.flow_from_directory(\n",
    "    val_dir, \n",
    "    target_size=(img_size, img_size), \n",
    "    color_mode='rgb',\n",
    "    batch_size=bch_size, \n",
    "    class_mode='categorical')\n",
    "\n",
    "test_generator = img_gen.flow_from_directory(\n",
    "    test_dir,\n",
    "    target_size=(img_size, img_size),\n",
    "    color_mode='rgb',\n",
    "    batch_size=bch_size,\n",
    "    class_mode='categorical',\n",
    "    shuffle=False)\n"
   ]
  },
  {
   "cell_type": "markdown",
   "metadata": {},
   "source": [
    "This is the same as model_e from first notebook, but with less classes that contain more images"
   ]
  },
  {
   "cell_type": "code",
   "execution_count": 25,
   "metadata": {},
   "outputs": [
    {
     "name": "stdout",
     "output_type": "stream",
     "text": [
      "Epoch 1/10\n",
      "100/100 [==============================] - 384s 4s/step - loss: 46.5915 - acc: 0.6865 - val_loss: 34.7607 - val_acc: 0.6904\n",
      "Epoch 2/10\n",
      "100/100 [==============================] - 424s 4s/step - loss: 25.8775 - acc: 0.7740 - val_loss: 18.1615 - val_acc: 0.5881\n",
      "Epoch 3/10\n",
      "100/100 [==============================] - 415s 4s/step - loss: 12.0238 - acc: 0.8015 - val_loss: 7.3069 - val_acc: 0.6874\n",
      "Epoch 4/10\n",
      "100/100 [==============================] - 369s 4s/step - loss: 4.1627 - acc: 0.7980 - val_loss: 2.2713 - val_acc: 0.6770\n",
      "Epoch 5/10\n",
      "100/100 [==============================] - 375s 4s/step - loss: 1.6677 - acc: 0.8249 - val_loss: 1.3892 - val_acc: 0.7852\n",
      "Epoch 6/10\n",
      "100/100 [==============================] - 349s 3s/step - loss: 1.1682 - acc: 0.8299 - val_loss: 1.1155 - val_acc: 0.7778\n",
      "Epoch 7/10\n",
      "100/100 [==============================] - 373s 4s/step - loss: 0.9405 - acc: 0.8345 - val_loss: 1.0147 - val_acc: 0.7778\n",
      "Epoch 8/10\n",
      "100/100 [==============================] - 376s 4s/step - loss: 0.8114 - acc: 0.8514 - val_loss: 1.1705 - val_acc: 0.7037\n",
      "Epoch 9/10\n",
      "100/100 [==============================] - 392s 4s/step - loss: 0.7741 - acc: 0.8305 - val_loss: 0.8608 - val_acc: 0.7778\n",
      "Epoch 10/10\n",
      "100/100 [==============================] - 344s 3s/step - loss: 0.7448 - acc: 0.8495 - val_loss: 0.8263 - val_acc: 0.7778\n"
     ]
    }
   ],
   "source": [
    "model_1 = models.Sequential() \n",
    "model_1.add(layers.Conv2D(32, (3, 3), activation='relu', input_shape=(img_size, img_size, 3)))\n",
    "model_1.add(layers.Conv2D(64, (3, 3), activation='relu'))\n",
    "model_1.add(layers.MaxPooling2D((2, 2)))\n",
    "model_1.add(layers.Conv2D(128, (3, 3), activation='relu'))\n",
    "model_1.add(layers.MaxPooling2D((2, 2)))\n",
    "model_1.add(layers.Conv2D(128, (3, 3)))\n",
    "model_1.add(layers.MaxPooling2D((2, 2)))\n",
    "model_1.add(layers.Conv2D(256, (3, 3), activation='relu', kernel_regularizer =tf.keras.regularizers.l1( l=0.01) ))\n",
    "model_1.add(layers.MaxPooling2D((2, 2)))\n",
    "model_1.add(layers.Flatten())\n",
    "model_1.add(layers.Dense(64, activation='relu'))\n",
    "model_1.add(layers.Dense(64, activation='relu'))\n",
    "model_1.add(layers.Dense(128, activation='relu',))\n",
    "model_1.add(layers.Dense(2, activation='softmax'))\n",
    "\n",
    "model_1.compile(loss='categorical_crossentropy', optimizer=optimizers.RMSprop(lr=1e-4), metrics=['acc'])\n",
    "\n",
    "history_1 = model_1.fit_generator(\n",
    "    train_generator,\n",
    "    steps_per_epoch=100,\n",
    "    epochs=10, \n",
    "    validation_data=validation_generator,\n",
    "    validation_steps=50)"
   ]
  },
  {
   "cell_type": "code",
   "execution_count": 26,
   "metadata": {
    "scrolled": true
   },
   "outputs": [
    {
     "data": {
      "text/plain": [
       "<matplotlib.legend.Legend at 0x7fa64f8f47b8>"
      ]
     },
     "execution_count": 26,
     "metadata": {},
     "output_type": "execute_result"
    },
    {
     "data": {
      "image/png": "[encoded data removed]",
      "text/plain": [
       "<Figure size 936x648 with 1 Axes>"
      ]
     },
     "metadata": {
      "needs_background": "light"
     },
     "output_type": "display_data"
    }
   ],
   "source": [
    "\n",
    "fig, ax = plt.subplots(figsize=(13,9))\n",
    "ax.set_title('Final Model Accuracy', fontsize = 22)\n",
    "ax.plot(history_1.epoch, history_1.history[\"acc\"], label=\"Train Accuracy\")\n",
    "ax.plot(history_1.epoch, history_1.history[\"val_acc\"], label=\"Validation Accuracy\")\n",
    "plt.xlabel('epochs', fontsize = 17)\n",
    "plt.ylabel('Accuracy Score', fontsize = 17)\n",
    "ax.tick_params(axis = 'both', labelsize = 17)\n",
    "ax.legend(fontsize = 17)"
   ]
  },
  {
   "cell_type": "markdown",
   "metadata": {},
   "source": [
    "I'm feeling pretty satisfied with this one. I'm running short on time so for now, this is the final model"
   ]
  },
  {
   "cell_type": "markdown",
   "metadata": {},
   "source": [
    "## Evaluation"
   ]
  },
  {
   "cell_type": "code",
   "execution_count": 32,
   "metadata": {},
   "outputs": [],
   "source": [
    "test_loss, test_acc = model_1.evaluate_generator(test_generator, steps=50)"
   ]
  },
  {
   "cell_type": "code",
   "execution_count": 33,
   "metadata": {},
   "outputs": [
    {
     "name": "stdout",
     "output_type": "stream",
     "text": [
      "0.8539130604785422\n"
     ]
    }
   ],
   "source": [
    "print(test_acc)"
   ]
  },
  {
   "cell_type": "code",
   "execution_count": null,
   "metadata": {},
   "outputs": [],
   "source": []
  }
 ],
 "metadata": {
  "kernelspec": {
   "display_name": "dogs",
   "language": "python",
   "name": "dogs"
  },
  "language_info": {
   "codemirror_mode": {
    "name": "ipython",
    "version": 3
   },
   "file_extension": ".py",
   "mimetype": "text/x-python",
   "name": "python",
   "nbconvert_exporter": "python",
   "pygments_lexer": "ipython3",
   "version": "3.7.7"
  }
 },
 "nbformat": 4,
 "nbformat_minor": 4
}
