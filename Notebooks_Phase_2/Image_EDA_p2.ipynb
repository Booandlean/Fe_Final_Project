{
 "cells": [
  {
   "cell_type": "markdown",
   "metadata": {},
   "source": [
    "## Imports"
   ]
  },
  {
   "cell_type": "code",
   "execution_count": 10,
   "metadata": {},
   "outputs": [
    {
     "name": "stdout",
     "output_type": "stream",
     "text": [
      "The autoreload extension is already loaded. To reload it, use:\n",
      "  %reload_ext autoreload\n"
     ]
    }
   ],
   "source": [
    "import numpy as np\n",
    "import pandas as pd\n",
    "import os\n",
    "import sys\n",
    "import shutil\n",
    "import matplotlib.pyplot as plt\n",
    "import seaborn as sns\n",
    "from PIL import Image\n",
    "sys.path.append(\"../\")\n",
    "from src.functions import split_data\n",
    "%load_ext autoreload\n",
    "%autoreload 2"
   ]
  },
  {
   "cell_type": "markdown",
   "metadata": {},
   "source": [
    "## Pathways and Image Directories"
   ]
  },
  {
   "cell_type": "code",
   "execution_count": 2,
   "metadata": {},
   "outputs": [],
   "source": [
    "data_path = os.path.join('..', 'Data')\n",
    "\n",
    "images_path = os.path.join(data_path, 'Images')\n",
    "\n",
    "test_path = os.path.join(data_path, 'test_images')\n",
    "train_path = os.path.join(data_path, 'train_images')\n",
    "val_path = os.path.join(data_path, 'val_images')\n",
    "\n",
    "image_folders = os.listdir(images_path)\n",
    "\n",
    "image_folders.remove('.DS_Store')\n",
    "\n",
    "test_folders = os.listdir(test_path)\n",
    "train_folders = os.listdir(train_path)\n",
    "val_folders = os.listdir(val_path)"
   ]
  },
  {
   "cell_type": "code",
   "execution_count": 3,
   "metadata": {},
   "outputs": [],
   "source": [
    "Ex_test_path = os.path.join(data_path, 'ExModeling_test')\n",
    "Ex_train_path = os.path.join(data_path, 'ExModeling_train')\n",
    "Ex_val_path = os.path.join(data_path, 'ExModeling_val')"
   ]
  },
  {
   "cell_type": "markdown",
   "metadata": {},
   "source": [
    "## Methods"
   ]
  },
  {
   "cell_type": "code",
   "execution_count": 4,
   "metadata": {},
   "outputs": [],
   "source": [
    "#does train test split\n",
    "split_data(.8, .1, .1)"
   ]
  },
  {
   "cell_type": "code",
   "execution_count": 5,
   "metadata": {},
   "outputs": [],
   "source": [
    "#resets modeling folders\n",
    "shutil.rmtree(Ex_test_path)\n",
    "shutil.rmtree(Ex_train_path)\n",
    "shutil.rmtree(Ex_val_path)\n",
    "\n",
    "os.mkdir(Ex_test_path)\n",
    "os.mkdir(Ex_train_path)\n",
    "os.mkdir(Ex_val_path)"
   ]
  },
  {
   "cell_type": "code",
   "execution_count": 8,
   "metadata": {},
   "outputs": [],
   "source": [
    "def model_prep(breed):\n",
    "    \n",
    "    test_breed = os.path.join(test_path, breed)\n",
    "    train_breed = os.path.join(train_path, breed)\n",
    "    val_breed = os.path.join(val_path, breed)\n",
    "    \n",
    "    Ex_test_path = os.path.join(data_path, 'ExModeling_test')\n",
    "    Ex_train_path = os.path.join(data_path, 'ExModeling_train')\n",
    "    Ex_val_path = os.path.join(data_path, 'ExModeling_val')\n",
    "    \n",
    "    Ex_test_breed = os.path.join(Ex_test_path, breed)\n",
    "    Ex_train_breed = os.path.join(Ex_train_path, breed)\n",
    "    Ex_val_breed = os.path.join(Ex_val_path, breed)\n",
    "    \n",
    "    shutil.copytree(test_breed, Ex_test_breed)\n",
    "    shutil.copytree(train_breed, Ex_train_breed)\n",
    "    shutil.copytree(val_breed, Ex_val_breed)"
   ]
  },
  {
   "cell_type": "code",
   "execution_count": 9,
   "metadata": {},
   "outputs": [],
   "source": [
    "#moves images to modeling folders\n",
    "model_prep('Maltese_dog')#252\n",
    "model_prep('Afghan_hound')#239\n",
    "model_prep('Scottish_deerhound')#232\n",
    "model_prep('Pomeranian')#219"
   ]
  },
  {
   "cell_type": "code",
   "execution_count": 28,
   "metadata": {},
   "outputs": [],
   "source": [
    "def avg_size(breed):\n",
    "#note: this is meant for the training data    \n",
    "    breed_path = os.path.join(train_path, breed)\n",
    "    \n",
    "    width = []\n",
    "    height = []\n",
    "    \n",
    "    for file in os.listdir(breed_path):\n",
    "        \n",
    "        file_path = os.path.join(breed_path, file)\n",
    "        im = Image.open(file_path)\n",
    "        w, h = im.size\n",
    "        \n",
    "        width.append(w)\n",
    "        height.append(h)\n",
    "    \n",
    "    w_avg = sum(width)/len(width)\n",
    "    h_avg = sum(height)/len(height)\n",
    "    print('# of images:')\n",
    "    print(len(width))\n",
    "    \n",
    "    return w_avg, h_avg\n"
   ]
  },
  {
   "cell_type": "code",
   "execution_count": 29,
   "metadata": {},
   "outputs": [
    {
     "name": "stdout",
     "output_type": "stream",
     "text": [
      "# of images:\n",
      "175\n"
     ]
    },
    {
     "data": {
      "text/plain": [
       "(456.49142857142857, 399.2342857142857)"
      ]
     },
     "execution_count": 29,
     "metadata": {},
     "output_type": "execute_result"
    }
   ],
   "source": [
    "avg_size('Pomeranian')"
   ]
  },
  {
   "cell_type": "code",
   "execution_count": 30,
   "metadata": {},
   "outputs": [
    {
     "name": "stdout",
     "output_type": "stream",
     "text": [
      "# of images:\n",
      "201\n"
     ]
    },
    {
     "data": {
      "text/plain": [
       "(468.55721393034827, 389.71144278606965)"
      ]
     },
     "execution_count": 30,
     "metadata": {},
     "output_type": "execute_result"
    }
   ],
   "source": [
    "avg_size('Maltese_dog')"
   ]
  },
  {
   "cell_type": "code",
   "execution_count": 31,
   "metadata": {},
   "outputs": [
    {
     "name": "stdout",
     "output_type": "stream",
     "text": [
      "# of images:\n",
      "191\n"
     ]
    },
    {
     "data": {
      "text/plain": [
       "(420.9476439790576, 444.79057591623035)"
      ]
     },
     "execution_count": 31,
     "metadata": {},
     "output_type": "execute_result"
    }
   ],
   "source": [
    "avg_size('Afghan_hound')"
   ]
  },
  {
   "cell_type": "code",
   "execution_count": 32,
   "metadata": {},
   "outputs": [
    {
     "name": "stdout",
     "output_type": "stream",
     "text": [
      "# of images:\n",
      "185\n"
     ]
    },
    {
     "data": {
      "text/plain": [
       "(461.24864864864867, 411.3783783783784)"
      ]
     },
     "execution_count": 32,
     "metadata": {},
     "output_type": "execute_result"
    }
   ],
   "source": [
    "avg_size('Scottish_deerhound')"
   ]
  },
  {
   "cell_type": "markdown",
   "metadata": {},
   "source": [
    "Now to do some math"
   ]
  },
  {
   "cell_type": "code",
   "execution_count": 36,
   "metadata": {},
   "outputs": [
    {
     "data": {
      "text/plain": [
       "451.8151595744681"
      ]
     },
     "execution_count": 36,
     "metadata": {},
     "output_type": "execute_result"
    }
   ],
   "source": [
    "w = ((175 * 456) + (201 * 469) + (191 * 421) + (185 * 461))/752\n",
    "w"
   ]
  },
  {
   "cell_type": "code",
   "execution_count": 37,
   "metadata": {},
   "outputs": [
    {
     "data": {
      "text/plain": [
       "411.2300531914894"
      ]
     },
     "execution_count": 37,
     "metadata": {},
     "output_type": "execute_result"
    }
   ],
   "source": [
    "h = ((175 * 399) + (201 * 390) + (191 * 445) + (185 * 411))/752\n",
    "h"
   ]
  },
  {
   "cell_type": "markdown",
   "metadata": {},
   "source": [
    "And now we have the average image dimensions"
   ]
  },
  {
   "cell_type": "code",
   "execution_count": null,
   "metadata": {},
   "outputs": [],
   "source": []
  }
 ],
 "metadata": {
  "kernelspec": {
   "display_name": "dogs",
   "language": "python",
   "name": "dogs"
  },
  "language_info": {
   "codemirror_mode": {
    "name": "ipython",
    "version": 3
   },
   "file_extension": ".py",
   "mimetype": "text/x-python",
   "name": "python",
   "nbconvert_exporter": "python",
   "pygments_lexer": "ipython3",
   "version": "3.7.7"
  }
 },
 "nbformat": 4,
 "nbformat_minor": 4
}
