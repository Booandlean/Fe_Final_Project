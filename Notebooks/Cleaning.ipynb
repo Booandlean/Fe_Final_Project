{
 "cells": [
  {
   "cell_type": "code",
   "execution_count": 171,
   "metadata": {},
   "outputs": [],
   "source": [
    "#imports\n",
    "import numpy as np\n",
    "import pandas as pd\n",
    "import os\n",
    "import sys\n",
    "\n",
    "#sys.path.append(\"../\")\n",
    "\n",
    "import tensorflow.keras.preprocessing as preprocessing\n",
    "\n",
    "\n",
    "#import tensorflow as tf\n",
    "#from tensorflow.keras import datasets, layers, models"
   ]
  },
  {
   "cell_type": "code",
   "execution_count": 82,
   "metadata": {},
   "outputs": [],
   "source": [
    "not_path = os.listdir(\"../Data/Images\")"
   ]
  },
  {
   "cell_type": "code",
   "execution_count": 86,
   "metadata": {},
   "outputs": [],
   "source": [
    "not_path.remove(\".DS_Store\")\n"
   ]
  },
  {
   "cell_type": "code",
   "execution_count": 94,
   "metadata": {},
   "outputs": [],
   "source": [
    "path_to_data = \"../Data\""
   ]
  },
  {
   "cell_type": "code",
   "execution_count": 89,
   "metadata": {},
   "outputs": [],
   "source": [
    "labels = [x.split(\"-\")[1:] for x in not_path]"
   ]
  },
  {
   "cell_type": "code",
   "execution_count": 91,
   "metadata": {},
   "outputs": [],
   "source": [
    "labels = [\"_\".join(x) for x in labels]"
   ]
  },
  {
   "cell_type": "code",
   "execution_count": 92,
   "metadata": {},
   "outputs": [
    {
     "data": {
      "text/plain": [
       "['silky_terrier',\n",
       " 'Scottish_deerhound',\n",
       " 'Chesapeake_Bay_retriever',\n",
       " 'Ibizan_hound',\n",
       " 'wire_haired_fox_terrier',\n",
       " 'Saluki',\n",
       " 'cocker_spaniel',\n",
       " 'schipperke',\n",
       " 'borzoi',\n",
       " 'Pembroke',\n",
       " 'komondor',\n",
       " 'Staffordshire_bullterrier',\n",
       " 'standard_poodle',\n",
       " 'Eskimo_dog',\n",
       " 'English_foxhound',\n",
       " 'golden_retriever',\n",
       " 'Sealyham_terrier',\n",
       " 'Japanese_spaniel',\n",
       " 'miniature_schnauzer',\n",
       " 'malamute',\n",
       " 'malinois',\n",
       " 'Pekinese',\n",
       " 'giant_schnauzer',\n",
       " 'Mexican_hairless',\n",
       " 'Doberman',\n",
       " 'standard_schnauzer',\n",
       " 'dhole',\n",
       " 'German_shepherd',\n",
       " 'Bouvier_des_Flandres',\n",
       " 'Siberian_husky',\n",
       " 'Norwich_terrier',\n",
       " 'Irish_terrier',\n",
       " 'Norfolk_terrier',\n",
       " 'Saint_Bernard',\n",
       " 'Border_terrier',\n",
       " 'briard',\n",
       " 'Tibetan_mastiff',\n",
       " 'bull_mastiff',\n",
       " 'Maltese_dog',\n",
       " 'Kerry_blue_terrier',\n",
       " 'kuvasz',\n",
       " 'Greater_Swiss_Mountain_dog',\n",
       " 'Lakeland_terrier',\n",
       " 'Blenheim_spaniel',\n",
       " 'basset',\n",
       " 'West_Highland_white_terrier',\n",
       " 'Chihuahua',\n",
       " 'Border_collie',\n",
       " 'redbone',\n",
       " 'Irish_wolfhound',\n",
       " 'bluetick',\n",
       " 'miniature_poodle',\n",
       " 'Cardigan',\n",
       " 'EntleBucher',\n",
       " 'Norwegian_elkhound',\n",
       " 'German_short_haired_pointer',\n",
       " 'Bernese_mountain_dog',\n",
       " 'papillon',\n",
       " 'Tibetan_terrier',\n",
       " 'Gordon_setter',\n",
       " 'American_Staffordshire_terrier',\n",
       " 'vizsla',\n",
       " 'kelpie',\n",
       " 'Weimaraner',\n",
       " 'miniature_pinscher',\n",
       " 'boxer',\n",
       " 'chow',\n",
       " 'Old_English_sheepdog',\n",
       " 'pug',\n",
       " 'Rhodesian_ridgeback',\n",
       " 'Scotch_terrier',\n",
       " 'Shih_Tzu',\n",
       " 'affenpinscher',\n",
       " 'whippet',\n",
       " 'Sussex_spaniel',\n",
       " 'otterhound',\n",
       " 'flat_coated_retriever',\n",
       " 'English_setter',\n",
       " 'Italian_greyhound',\n",
       " 'Labrador_retriever',\n",
       " 'collie',\n",
       " 'cairn',\n",
       " 'Rottweiler',\n",
       " 'Australian_terrier',\n",
       " 'toy_terrier',\n",
       " 'Shetland_sheepdog',\n",
       " 'African_hunting_dog',\n",
       " 'Newfoundland',\n",
       " 'Walker_hound',\n",
       " 'Lhasa',\n",
       " 'beagle',\n",
       " 'Samoyed',\n",
       " 'Great_Dane',\n",
       " 'Airedale',\n",
       " 'bloodhound',\n",
       " 'Irish_setter',\n",
       " 'keeshond',\n",
       " 'Dandie_Dinmont',\n",
       " 'basenji',\n",
       " 'Bedlington_terrier',\n",
       " 'Appenzeller',\n",
       " 'clumber',\n",
       " 'toy_poodle',\n",
       " 'Great_Pyrenees',\n",
       " 'English_springer',\n",
       " 'Afghan_hound',\n",
       " 'Brittany_spaniel',\n",
       " 'Welsh_springer_spaniel',\n",
       " 'Boston_bull',\n",
       " 'dingo',\n",
       " 'soft_coated_wheaten_terrier',\n",
       " 'curly_coated_retriever',\n",
       " 'French_bulldog',\n",
       " 'Irish_water_spaniel',\n",
       " 'Pomeranian',\n",
       " 'Brabancon_griffon',\n",
       " 'Yorkshire_terrier',\n",
       " 'groenendael',\n",
       " 'Leonberg',\n",
       " 'black_and_tan_coonhound']"
      ]
     },
     "execution_count": 92,
     "metadata": {},
     "output_type": "execute_result"
    }
   ],
   "source": [
    "labels"
   ]
  },
  {
   "cell_type": "code",
   "execution_count": 113,
   "metadata": {
    "scrolled": true
   },
   "outputs": [
    {
     "ename": "SyntaxError",
     "evalue": "invalid syntax (<ipython-input-113-89b97303ff74>, line 2)",
     "output_type": "error",
     "traceback": [
      "\u001b[0;36m  File \u001b[0;32m\"<ipython-input-113-89b97303ff74>\"\u001b[0;36m, line \u001b[0;32m2\u001b[0m\n\u001b[0;31m    for i in (os.listdir(\"../Data/Images\"):\u001b[0m\n\u001b[0m                                          ^\u001b[0m\n\u001b[0;31mSyntaxError\u001b[0m\u001b[0;31m:\u001b[0m invalid syntax\n"
     ]
    }
   ],
   "source": [
    "# img_and_name = []\n",
    "# for i in (os.listdir(\"../Data/Images\"):\n",
    "#     path_and_name = \"../Data/Images/\" + str(breed_list[i + 1])\n",
    "#     for file in os.listdir(path_and_name):\n",
    "#         img_and_name.append(file)\n",
    "# img_and_name"
   ]
  },
  {
   "cell_type": "code",
   "execution_count": 148,
   "metadata": {},
   "outputs": [],
   "source": [
    "data_path = os.path.join('..', 'Data')\n",
    "images_path = os.path.join(data_path, 'Images')\n",
    "image_folders = os.listdir(images_path)\n",
    "test_folders = os.listdir(test_path)\n",
    "train_folders = os.listdir(train_path)\n",
    "val_folders = os.listdir(val_path)"
   ]
  },
  {
   "cell_type": "code",
   "execution_count": 116,
   "metadata": {},
   "outputs": [],
   "source": [
    "def clean_target_file_name(name):\n",
    "    return ''.join(name.split('-')[1:])"
   ]
  },
  {
   "cell_type": "code",
   "execution_count": 135,
   "metadata": {},
   "outputs": [],
   "source": [
    "test_path = os.path.join(data_path, 'test_images')\n",
    "train_path = os.path.join(data_path, 'train_images')\n",
    "val_path = os.path.join(data_path, 'val_images')\n",
    "\n"
   ]
  },
  {
   "cell_type": "code",
   "execution_count": 119,
   "metadata": {},
   "outputs": [],
   "source": [
    "image_folders.remove('.DS_Store')"
   ]
  },
  {
   "cell_type": "code",
   "execution_count": 147,
   "metadata": {},
   "outputs": [],
   "source": [
    "image_counts = []\n",
    "for folder in image_folders:\n",
    "    path = os.path.join(images_path, folder)\n",
    "    image_counts.append(len(os.listdir(path)))"
   ]
  },
  {
   "cell_type": "code",
   "execution_count": 124,
   "metadata": {
    "scrolled": true
   },
   "outputs": [
    {
     "data": {
      "image/png": "[encoded data removed]",
      "text/plain": [
       "<Figure size 432x288 with 1 Axes>"
      ]
     },
     "metadata": {
      "needs_background": "light"
     },
     "output_type": "display_data"
    }
   ],
   "source": [
    "plt.hist(image_counts);\n"
   ]
  },
  {
   "cell_type": "code",
   "execution_count": 150,
   "metadata": {},
   "outputs": [
    {
     "data": {
      "text/plain": [
       "(array([45., 19., 14., 16.,  9.,  8.,  6.,  1.,  1.,  1.]),\n",
       " array([13. , 13.9, 14.8, 15.7, 16.6, 17.5, 18.4, 19.3, 20.2, 21.1, 22. ]),\n",
       " <a list of 10 Patch objects>)"
      ]
     },
     "execution_count": 150,
     "metadata": {},
     "output_type": "execute_result"
    },
    {
     "data": {
      "image/png": "[encoded data removed]",
      "text/plain": [
       "<Figure size 432x288 with 1 Axes>"
      ]
     },
     "metadata": {
      "needs_background": "light"
     },
     "output_type": "display_data"
    }
   ],
   "source": [
    "test_image_counts = []\n",
    "for folder in test_folders:\n",
    "    path = os.path.join(test_path, folder)\n",
    "    if folder != '.DS_Store':\n",
    "        test_image_counts.append(len(os.listdir(path)))\n",
    "plt.hist(test_image_counts)"
   ]
  },
  {
   "cell_type": "code",
   "execution_count": 151,
   "metadata": {},
   "outputs": [
    {
     "data": {
      "text/plain": [
       "(array([55., 11., 13., 15.,  9.,  7.,  7.,  0.,  2.,  1.]),\n",
       " array([133. , 142.3, 151.6, 160.9, 170.2, 179.5, 188.8, 198.1, 207.4,\n",
       "        216.7, 226. ]),\n",
       " <a list of 10 Patch objects>)"
      ]
     },
     "execution_count": 151,
     "metadata": {},
     "output_type": "execute_result"
    },
    {
     "data": {
      "image/png": "[encoded data removed]",
      "text/plain": [
       "<Figure size 432x288 with 1 Axes>"
      ]
     },
     "metadata": {
      "needs_background": "light"
     },
     "output_type": "display_data"
    }
   ],
   "source": [
    "train_image_counts = []\n",
    "for folder in train_folders:\n",
    "    path = os.path.join(train_path, folder)\n",
    "    if folder != '.DS_Store':\n",
    "        train_image_counts.append(len(os.listdir(path)))\n",
    "plt.hist(train_image_counts)"
   ]
  },
  {
   "cell_type": "code",
   "execution_count": 152,
   "metadata": {},
   "outputs": [
    {
     "data": {
      "text/plain": [
       "(array([43.,  0.,  0.,  0.,  0., 75.,  0.,  0.,  0.,  2.]),\n",
       " array([2. , 2.2, 2.4, 2.6, 2.8, 3. , 3.2, 3.4, 3.6, 3.8, 4. ]),\n",
       " <a list of 10 Patch objects>)"
      ]
     },
     "execution_count": 152,
     "metadata": {},
     "output_type": "execute_result"
    },
    {
     "data": {
      "image/png": "[encoded data removed]",
      "text/plain": [
       "<Figure size 432x288 with 1 Axes>"
      ]
     },
     "metadata": {
      "needs_background": "light"
     },
     "output_type": "display_data"
    }
   ],
   "source": [
    "val_image_counts = []\n",
    "for folder in val_folders:\n",
    "    path = os.path.join(val_path, folder)\n",
    "    if folder != '.DS_Store':\n",
    "        val_image_counts.append(len(os.listdir(path)))\n",
    "plt.hist(val_image_counts)"
   ]
  },
  {
   "cell_type": "code",
   "execution_count": 168,
   "metadata": {},
   "outputs": [],
   "source": [
    "#label and img test\n",
    "train_img_label = []\n",
    "index = 0\n",
    "for folder in train_folders:\n",
    "    path = os.path.join(train_path, folder)\n",
    "    if folder != '.DS_Store':\n",
    "        train_img_label.append((train_folders[index], os.listdir(path)))\n",
    "        index = index + 1\n"
   ]
  },
  {
   "cell_type": "code",
   "execution_count": 169,
   "metadata": {
    "scrolled": true
   },
   "outputs": [
    {
     "name": "stdout",
     "output_type": "stream",
     "text": [
      "Australian_terrier\n",
      "['n02096294_6689.jpg', 'n02096294_1455.jpg', 'n02096294_1284.jpg', 'n02096294_6299.jpg', 'n02096294_6931.jpg', 'n02096294_8706.jpg', 'n02096294_5587.jpg', 'n02096294_7804.jpg', 'n02096294_2175.jpg', 'n02096294_2411.jpg', 'n02096294_7541.jpg', 'n02096294_2188.jpg', 'n02096294_5817.jpg', 'n02096294_3533.jpg', 'n02096294_5552.jpg', 'n02096294_3137.jpg', 'n02096294_3679.jpg', 'n02096294_2215.jpg', 'n02096294_6258.jpg', 'n02096294_2176.jpg', 'n02096294_8467.jpg', 'n02096294_7556.jpg', 'n02096294_8067.jpg', 'n02096294_3899.jpg', 'n02096294_3866.jpg', 'n02096294_3494.jpg', 'n02096294_459.jpg', 'n02096294_8476.jpg', 'n02096294_4925.jpg', 'n02096294_2603.jpg', 'n02096294_671.jpg', 'n02096294_895.jpg', 'n02096294_8702.jpg', 'n02096294_3642.jpg', 'n02096294_2206.jpg', 'n02096294_1243.jpg', 'n02096294_472.jpg', 'n02096294_4267.jpg', 'n02096294_1121.jpg', 'n02096294_1653.jpg', 'n02096294_987.jpg', 'n02096294_8406.jpg', 'n02096294_7641.jpg', 'n02096294_1783.jpg', 'n02096294_1754.jpg', 'n02096294_7456.jpg', 'n02096294_1231.jpg', 'n02096294_4201.jpg', 'n02096294_574.jpg', 'n02096294_1386.jpg', 'n02096294_1147.jpg', 'n02096294_2672.jpg', 'n02096294_1409.jpg', 'n02096294_3632.jpg', 'n02096294_2504.jpg', 'n02096294_3800.jpg', 'n02096294_167.jpg', 'n02096294_6213.jpg', 'n02096294_6207.jpg', 'n02096294_2934.jpg', 'n02096294_2920.jpg', 'n02096294_1597.jpg', 'n02096294_7051.jpg', 'n02096294_5861.jpg', 'n02096294_1805.jpg', 'n02096294_1168.jpg', 'n02096294_2688.jpg', 'n02096294_836.jpg', 'n02096294_1586.jpg', 'n02096294_412.jpg', 'n02096294_3554.jpg', 'n02096294_7732.jpg', 'n02096294_7097.jpg', 'n02096294_2306.jpg', 'n02096294_7295.jpg', 'n02096294_3967.jpg', 'n02096294_3595.jpg', 'n02096294_4205.jpg', 'n02096294_3344.jpg', 'n02096294_1553.jpg', 'n02096294_160.jpg', 'n02096294_6995.jpg', 'n02096294_5522.jpg', 'n02096294_5734.jpg', 'n02096294_7692.jpg', 'n02096294_1803.jpg', 'n02096294_8157.jpg', 'n02096294_1629.jpg', 'n02096294_568.jpg', 'n02096294_4142.jpg', 'n02096294_8778.jpg', 'n02096294_1953.jpg', 'n02096294_3413.jpg', 'n02096294_5670.jpg', 'n02096294_4022.jpg', 'n02096294_1400.jpg', 'n02096294_5666.jpg', 'n02096294_5921.jpg', 'n02096294_8222.jpg', 'n02096294_5504.jpg', 'n02096294_7474.jpg', 'n02096294_3174.jpg', 'n02096294_436.jpg', 'n02096294_1429.jpg', 'n02096294_6144.jpg', 'n02096294_5449.jpg', 'n02096294_5844.jpg', 'n02096294_2118.jpg', 'n02096294_1411.jpg', 'n02096294_4435.jpg', 'n02096294_6785.jpg', 'n02096294_1954.jpg', 'n02096294_8025.jpg', 'n02096294_7317.jpg', 'n02096294_2247.jpg', 'n02096294_1955.jpg', 'n02096294_4420.jpg', 'n02096294_6592.jpg', 'n02096294_590.jpg', 'n02096294_4583.jpg', 'n02096294_38.jpg', 'n02096294_6988.jpg', 'n02096294_8557.jpg', 'n02096294_8594.jpg', 'n02096294_5098.jpg', 'n02096294_1375.jpg', 'n02096294_6131.jpg', 'n02096294_8487.jpg', 'n02096294_4295.jpg', 'n02096294_6455.jpg', 'n02096294_6290.jpg', 'n02096294_2587.jpg', 'n02096294_6905.jpg', 'n02096294_4492.jpg', 'n02096294_4525.jpg', 'n02096294_1449.jpg', 'n02096294_250.jpg', 'n02096294_1111.jpg', 'n02096294_1850.jpg', 'n02096294_720.jpg', 'n02096294_3704.jpg', 'n02096294_2432.jpg', 'n02096294_285.jpg', 'n02096294_8255.jpg', 'n02096294_3472.jpg', 'n02096294_2750.jpg', 'n02096294_1926.jpg', 'n02096294_7370.jpg', 'n02096294_4137.jpg', 'n02096294_6457.jpg', 'n02096294_5176.jpg', 'n02096294_7567.jpg', 'n02096294_4324.jpg', 'n02096294_7605.jpg', 'n02096294_5774.jpg', 'n02096294_8522.jpg', 'n02096294_2580.jpg', 'n02096294_8721.jpg', 'n02096294_4443.jpg', 'n02096294_73.jpg', 'n02096294_2378.jpg', 'n02096294_67.jpg', 'n02096294_5398.jpg', 'n02096294_4290.jpg', 'n02096294_4535.jpg', 'n02096294_7028.jpg', 'n02096294_6450.jpg', 'n02096294_7000.jpg', 'n02096294_3105.jpg', 'n02096294_7161.jpg', 'n02096294_7175.jpg', 'n02096294_484.jpg', 'n02096294_4440.jpg', 'n02096294_5602.jpg', 'n02096294_1470.jpg', 'n02096294_8124.jpg']\n",
      "<class 'str'>\n",
      "<class 'str'>\n"
     ]
    }
   ],
   "source": [
    "print(train_img_label[0][0])\n",
    "print(train_img_label[0][1])\n",
    "print(type(train_img_label[0][0]))\n",
    "print(type(train_img_label[0][1][0]))"
   ]
  },
  {
   "cell_type": "code",
   "execution_count": null,
   "metadata": {},
   "outputs": [],
   "source": []
  },
  {
   "cell_type": "code",
   "execution_count": null,
   "metadata": {},
   "outputs": [],
   "source": []
  },
  {
   "cell_type": "code",
   "execution_count": null,
   "metadata": {},
   "outputs": [],
   "source": []
  },
  {
   "cell_type": "code",
   "execution_count": null,
   "metadata": {},
   "outputs": [],
   "source": []
  },
  {
   "cell_type": "code",
   "execution_count": 132,
   "metadata": {},
   "outputs": [],
   "source": [
    "def train_test_val_split(lst, train=.90, test=.09, val=.01):\n",
    "    train_size = int(train * len(lst))\n",
    "    test_size = int(test * len(lst))\n",
    "    val_size = int(val * len(lst))\n",
    "    train_split = list(np.random.choice(lst, size=train_size, replace=False))\n",
    "    no_train = [x for x in lst if x not in train_split]\n",
    "    test_split = list(np.random.choice(no_train, size=test_size, replace=False))\n",
    "    val_split = [x for x in no_train if x not in test_split]\n",
    "    return train_split, test_split, val_split"
   ]
  },
  {
   "cell_type": "code",
   "execution_count": 127,
   "metadata": {},
   "outputs": [
    {
     "data": {
      "text/plain": [
       "'n02097658-silky_terrier'"
      ]
     },
     "execution_count": 127,
     "metadata": {},
     "output_type": "execute_result"
    }
   ],
   "source": [
    "image_folders[0]"
   ]
  },
  {
   "cell_type": "code",
   "execution_count": 128,
   "metadata": {},
   "outputs": [],
   "source": [
    "import shutil"
   ]
  },
  {
   "cell_type": "code",
   "execution_count": 143,
   "metadata": {},
   "outputs": [],
   "source": [
    "def move_files(destination, origin, file_names):\n",
    "    os.mkdir(destination)\n",
    "    for file in file_names:\n",
    "        file_path = os.path.join(origin, file)\n",
    "        destination_path = os.path.join(destination, file)\n",
    "        shutil.copyfile(file_path, destination_path)"
   ]
  },
  {
   "cell_type": "code",
   "execution_count": 139,
   "metadata": {},
   "outputs": [
    {
     "data": {
      "text/plain": [
       "'../Data/Images'"
      ]
     },
     "execution_count": 139,
     "metadata": {},
     "output_type": "execute_result"
    }
   ],
   "source": []
  },
  {
   "cell_type": "code",
   "execution_count": 145,
   "metadata": {},
   "outputs": [],
   "source": [
    "for folder in image_folders:\n",
    "    target_name = clean_target_file_name(folder)\n",
    "    target_path = os.path.join(images_path, folder)\n",
    "    target_images = os.listdir(target_path)\n",
    "    train, test, val = train_test_val_split(target_images)\n",
    "\n",
    "    target_train_path = os.path.join(train_path, target_name)\n",
    "    target_test_path = os.path.join(test_path, target_name)\n",
    "    target_val_path = os.path.join(val_path, target_name)\n",
    "    move_files(target_train_path, target_path, train)\n",
    "    move_files(target_test_path, target_path, test)\n",
    "    move_files(target_val_path, target_path, val)\n",
    "    "
   ]
  },
  {
   "cell_type": "code",
   "execution_count": 141,
   "metadata": {},
   "outputs": [
    {
     "data": {
      "text/plain": [
       "['n02097658_4952.jpg',\n",
       " 'n02097658_8767.jpg',\n",
       " 'n02097658_8323.jpg',\n",
       " 'n02097658_1163.jpg',\n",
       " 'n02097658_7785.jpg',\n",
       " 'n02097658_26.jpg',\n",
       " 'n02097658_758.jpg',\n",
       " 'n02097658_8690.jpg',\n",
       " 'n02097658_214.jpg',\n",
       " 'n02097658_2022.jpg',\n",
       " 'n02097658_1112.jpg',\n",
       " 'n02097658_5223.jpg',\n",
       " 'n02097658_11313.jpg',\n",
       " 'n02097658_4778.jpg',\n",
       " 'n02097658_9723.jpg',\n",
       " 'n02097658_1503.jpg',\n",
       " 'n02097658_727.jpg',\n",
       " 'n02097658_8409.jpg',\n",
       " 'n02097658_3207.jpg',\n",
       " 'n02097658_611.jpg',\n",
       " 'n02097658_2330.jpg',\n",
       " 'n02097658_3345.jpg',\n",
       " 'n02097658_1307.jpg',\n",
       " 'n02097658_3693.jpg',\n",
       " 'n02097658_10559.jpg',\n",
       " 'n02097658_1039.jpg',\n",
       " 'n02097658_857.jpg',\n",
       " 'n02097658_1516.jpg',\n",
       " 'n02097658_5420.jpg',\n",
       " 'n02097658_2069.jpg',\n",
       " 'n02097658_6678.jpg',\n",
       " 'n02097658_98.jpg',\n",
       " 'n02097658_1793.jpg',\n",
       " 'n02097658_237.jpg',\n",
       " 'n02097658_6784.jpg',\n",
       " 'n02097658_953.jpg',\n",
       " 'n02097658_1789.jpg',\n",
       " 'n02097658_2224.jpg',\n",
       " 'n02097658_3407.jpg',\n",
       " 'n02097658_2048.jpg',\n",
       " 'n02097658_2271.jpg',\n",
       " 'n02097658_1227.jpg',\n",
       " 'n02097658_2173.jpg',\n",
       " 'n02097658_11363.jpg',\n",
       " 'n02097658_9017.jpg',\n",
       " 'n02097658_427.jpg',\n",
       " 'n02097658_1098.jpg',\n",
       " 'n02097658_10854.jpg',\n",
       " 'n02097658_3140.jpg',\n",
       " 'n02097658_4420.jpg',\n",
       " 'n02097658_950.jpg',\n",
       " 'n02097658_1910.jpg',\n",
       " 'n02097658_8780.jpg',\n",
       " 'n02097658_552.jpg',\n",
       " 'n02097658_1270.jpg',\n",
       " 'n02097658_1154.jpg',\n",
       " 'n02097658_4992.jpg',\n",
       " 'n02097658_2766.jpg',\n",
       " 'n02097658_5643.jpg',\n",
       " 'n02097658_5728.jpg',\n",
       " 'n02097658_8619.jpg',\n",
       " 'n02097658_1868.jpg',\n",
       " 'n02097658_2012.jpg',\n",
       " 'n02097658_4402.jpg',\n",
       " 'n02097658_6202.jpg',\n",
       " 'n02097658_1106.jpg',\n",
       " 'n02097658_7425.jpg',\n",
       " 'n02097658_4728.jpg',\n",
       " 'n02097658_983.jpg',\n",
       " 'n02097658_1616.jpg',\n",
       " 'n02097658_1473.jpg',\n",
       " 'n02097658_6351.jpg',\n",
       " 'n02097658_2051.jpg',\n",
       " 'n02097658_1690.jpg',\n",
       " 'n02097658_9300.jpg',\n",
       " 'n02097658_9407.jpg',\n",
       " 'n02097658_11242.jpg',\n",
       " 'n02097658_8095.jpg',\n",
       " 'n02097658_6672.jpg',\n",
       " 'n02097658_1797.jpg',\n",
       " 'n02097658_942.jpg',\n",
       " 'n02097658_3947.jpg',\n",
       " 'n02097658_9727.jpg',\n",
       " 'n02097658_5535.jpg',\n",
       " 'n02097658_4201.jpg',\n",
       " 'n02097658_129.jpg',\n",
       " 'n02097658_11020.jpg',\n",
       " 'n02097658_1086.jpg',\n",
       " 'n02097658_2114.jpg',\n",
       " 'n02097658_6289.jpg',\n",
       " 'n02097658_3571.jpg',\n",
       " 'n02097658_5273.jpg',\n",
       " 'n02097658_9330.jpg',\n",
       " 'n02097658_816.jpg',\n",
       " 'n02097658_11235.jpg',\n",
       " 'n02097658_6044.jpg',\n",
       " 'n02097658_7162.jpg',\n",
       " 'n02097658_46.jpg',\n",
       " 'n02097658_349.jpg',\n",
       " 'n02097658_1997.jpg',\n",
       " 'n02097658_980.jpg',\n",
       " 'n02097658_4890.jpg',\n",
       " 'n02097658_1100.jpg',\n",
       " 'n02097658_4869.jpg',\n",
       " 'n02097658_9136.jpg',\n",
       " 'n02097658_6017.jpg',\n",
       " 'n02097658_9978.jpg',\n",
       " 'n02097658_141.jpg',\n",
       " 'n02097658_5548.jpg',\n",
       " 'n02097658_9043.jpg',\n",
       " 'n02097658_271.jpg',\n",
       " 'n02097658_4363.jpg',\n",
       " 'n02097658_1013.jpg',\n",
       " 'n02097658_1469.jpg',\n",
       " 'n02097658_1326.jpg',\n",
       " 'n02097658_3117.jpg',\n",
       " 'n02097658_1567.jpg',\n",
       " 'n02097658_3484.jpg',\n",
       " 'n02097658_2665.jpg',\n",
       " 'n02097658_2919.jpg',\n",
       " 'n02097658_6357.jpg',\n",
       " 'n02097658_646.jpg',\n",
       " 'n02097658_955.jpg',\n",
       " 'n02097658_7445.jpg',\n",
       " 'n02097658_6605.jpg',\n",
       " 'n02097658_633.jpg',\n",
       " 'n02097658_6726.jpg',\n",
       " 'n02097658_2035.jpg',\n",
       " 'n02097658_2329.jpg',\n",
       " 'n02097658_292.jpg',\n",
       " 'n02097658_2824.jpg',\n",
       " 'n02097658_1693.jpg',\n",
       " 'n02097658_11118.jpg',\n",
       " 'n02097658_8053.jpg',\n",
       " 'n02097658_641.jpg',\n",
       " 'n02097658_4081.jpg',\n",
       " 'n02097658_277.jpg',\n",
       " 'n02097658_2041.jpg',\n",
       " 'n02097658_1917.jpg',\n",
       " 'n02097658_2182.jpg',\n",
       " 'n02097658_1018.jpg',\n",
       " 'n02097658_6014.jpg',\n",
       " 'n02097658_642.jpg',\n",
       " 'n02097658_8653.jpg',\n",
       " 'n02097658_9222.jpg',\n",
       " 'n02097658_1198.jpg',\n",
       " 'n02097658_2054.jpg',\n",
       " 'n02097658_10289.jpg',\n",
       " 'n02097658_595.jpg',\n",
       " 'n02097658_366.jpg',\n",
       " 'n02097658_171.jpg',\n",
       " 'n02097658_7619.jpg',\n",
       " 'n02097658_422.jpg',\n",
       " 'n02097658_2143.jpg',\n",
       " 'n02097658_10654.jpg',\n",
       " 'n02097658_7893.jpg',\n",
       " 'n02097658_2523.jpg',\n",
       " 'n02097658_6.jpg',\n",
       " 'n02097658_3396.jpg',\n",
       " 'n02097658_3639.jpg',\n",
       " 'n02097658_2117.jpg',\n",
       " 'n02097658_2882.jpg',\n",
       " 'n02097658_6300.jpg',\n",
       " 'n02097658_9327.jpg']"
      ]
     },
     "execution_count": 141,
     "metadata": {},
     "output_type": "execute_result"
    }
   ],
   "source": []
  },
  {
   "cell_type": "code",
   "execution_count": 103,
   "metadata": {
    "scrolled": true
   },
   "outputs": [
    {
     "name": "stdout",
     "output_type": "stream",
     "text": [
      "['.DS_Store', 'n02085620-Chihuahua', 'n02085782-Japanese_spaniel', 'n02085936-Maltese_dog', 'n02086079-Pekinese', 'n02086240-Shih-Tzu', 'n02086646-Blenheim_spaniel', 'n02086910-papillon', 'n02087046-toy_terrier', 'n02087394-Rhodesian_ridgeback']\n"
     ]
    }
   ],
   "source": [
    "breed_list = sorted(os.listdir(\"../Data/Images\"))\n",
    "file_name_list = []\n",
    "for i in range(0, len(breed_list)):\n",
    "    first_name = str(breed_list[i])\n",
    "    new_name = first_name\n",
    "    file_name_list.append(new_name)\n",
    "print(file_name_list[:10])"
   ]
  },
  {
   "cell_type": "code",
   "execution_count": 104,
   "metadata": {},
   "outputs": [
    {
     "data": {
      "text/plain": [
       "121"
      ]
     },
     "execution_count": 104,
     "metadata": {},
     "output_type": "execute_result"
    }
   ],
   "source": [
    "len(breed_list)"
   ]
  },
  {
   "cell_type": "code",
   "execution_count": 67,
   "metadata": {},
   "outputs": [
    {
     "name": "stdout",
     "output_type": "stream",
     "text": [
      "['silky_terrier', 'Scottish_deerhound', 'Chesapeake_Bay_retriever', 'Ibizan_hound', 'wire-haired_fox_terrier', 'Saluki', 'cocker_spaniel', 'schipperke', 'borzoi', 'Pembroke', 'komondor', 'Staffordshire_bullterrier', 'standard_poodle', 'Eskimo_dog', 'English_foxhound', 'golden_retriever', 'Sealyham_terrier', 'Japanese_spaniel', 'miniature_schnauzer', 'malamute', 'malinois', 'Pekinese', 'giant_schnauzer', 'Mexican_hairless', 'Doberman', 'standard_schnauzer', 'dhole', 'German_shepherd', 'Bouvier_des_Flandres', 'Siberian_husky', 'Norwich_terrier', 'Irish_terrier', 'Norfolk_terrier', 'Saint_Bernard', 'Border_terrier', 'briard', 'Tibetan_mastiff', 'bull_mastiff', 'Maltese_dog', 'Kerry_blue_terrier', 'kuvasz', 'Greater_Swiss_Mountain_dog', 'Lakeland_terrier', 'Blenheim_spaniel', 'basset', 'West_Highland_white_terrier', 'Chihuahua', 'Border_collie', 'redbone', 'Irish_wolfhound', 'bluetick', 'miniature_poodle', 'Cardigan', 'EntleBucher', 'Norwegian_elkhound', 'German_short-haired_pointer', 'Bernese_mountain_dog', 'papillon', 'Tibetan_terrier', 'Gordon_setter', 'American_Staffordshire_terrier', 'vizsla', 'kelpie', 'Weimaraner', 'miniature_pinscher', 'boxer', 'chow', 'Old_English_sheepdog', 'pug', 'Rhodesian_ridgeback', 'Scotch_terrier', 'Shih-Tzu', 'affenpinscher', 'whippet', 'Sussex_spaniel', 'otterhound', 'flat-coated_retriever', 'English_setter', 'Italian_greyhound', 'Labrador_retriever', 'collie', 'cairn', 'Rottweiler', 'Australian_terrier', 'toy_terrier', 'Shetland_sheepdog', 'African_hunting_dog', 'Newfoundland', 'Walker_hound', 'Lhasa', 'beagle', 'Samoyed', 'Great_Dane', 'Airedale', 'bloodhound', 'Irish_setter', 'keeshond', 'Dandie_Dinmont', 'basenji', 'Bedlington_terrier', 'Appenzeller', 'clumber', 'toy_poodle', 'Great_Pyrenees', 'English_springer', 'Afghan_hound', 'Brittany_spaniel', 'Welsh_springer_spaniel', 'Boston_bull', 'dingo', 'soft-coated_wheaten_terrier', 'curly-coated_retriever', 'French_bulldog', 'Irish_water_spaniel', 'Pomeranian', 'Brabancon_griffon', 'Yorkshire_terrier', 'groenendael', 'Leonberg', 'black-and-tan_coonhound']\n"
     ]
    }
   ],
   "source": [
    "# dog_names = []\n",
    "# for file in os.listdir(path_to_data):\n",
    "#     filename = os.fsdecode(file)\n",
    "    \n",
    "#     new_filename = filename[10:]\n",
    "#     #removes first 10 chars\n",
    "#     #os.rename(filename, new_filename)\n",
    "#     #renames files w/o first 10 char\n",
    "    \n",
    "#     if new_filename != '':\n",
    "#         dog_names.append(new_filename)\n",
    "# print(dog_names)"
   ]
  },
  {
   "cell_type": "code",
   "execution_count": 20,
   "metadata": {},
   "outputs": [
    {
     "data": {
      "text/plain": [
       "120"
      ]
     },
     "execution_count": 20,
     "metadata": {},
     "output_type": "execute_result"
    }
   ],
   "source": []
  },
  {
   "cell_type": "code",
   "execution_count": 98,
   "metadata": {},
   "outputs": [
    {
     "data": {
      "text/plain": [
       "[(0, 'n02097658-silky_terrier'),\n",
       " (0, 'n02092002-Scottish_deerhound'),\n",
       " (0, 'n02099849-Chesapeake_Bay_retriever'),\n",
       " (0, 'n02091244-Ibizan_hound'),\n",
       " (0, 'n02095314-wire-haired_fox_terrier'),\n",
       " (0, 'n02091831-Saluki'),\n",
       " (0, 'n02102318-cocker_spaniel'),\n",
       " (0, 'n02104365-schipperke'),\n",
       " (0, 'n02090622-borzoi'),\n",
       " (0, 'n02113023-Pembroke'),\n",
       " (0, 'n02105505-komondor'),\n",
       " (0, 'n02093256-Staffordshire_bullterrier'),\n",
       " (0, 'n02113799-standard_poodle'),\n",
       " (0, 'n02109961-Eskimo_dog'),\n",
       " (0, 'n02089973-English_foxhound'),\n",
       " (0, 'n02099601-golden_retriever'),\n",
       " (0, 'n02095889-Sealyham_terrier'),\n",
       " (0, 'n02085782-Japanese_spaniel'),\n",
       " (0, '.DS_Store'),\n",
       " (0, 'n02097047-miniature_schnauzer'),\n",
       " (0, 'n02110063-malamute'),\n",
       " (0, 'n02105162-malinois'),\n",
       " (0, 'n02086079-Pekinese'),\n",
       " (0, 'n02097130-giant_schnauzer'),\n",
       " (0, 'n02113978-Mexican_hairless'),\n",
       " (0, 'n02107142-Doberman'),\n",
       " (0, 'n02097209-standard_schnauzer'),\n",
       " (0, 'n02115913-dhole'),\n",
       " (0, 'n02106662-German_shepherd'),\n",
       " (0, 'n02106382-Bouvier_des_Flandres'),\n",
       " (0, 'n02110185-Siberian_husky'),\n",
       " (0, 'n02094258-Norwich_terrier'),\n",
       " (0, 'n02093991-Irish_terrier'),\n",
       " (0, 'n02094114-Norfolk_terrier'),\n",
       " (0, 'n02109525-Saint_Bernard'),\n",
       " (0, 'n02093754-Border_terrier'),\n",
       " (0, 'n02105251-briard'),\n",
       " (0, 'n02108551-Tibetan_mastiff'),\n",
       " (0, 'n02108422-bull_mastiff'),\n",
       " (0, 'n02085936-Maltese_dog'),\n",
       " (0, 'n02093859-Kerry_blue_terrier'),\n",
       " (0, 'n02104029-kuvasz'),\n",
       " (0, 'n02107574-Greater_Swiss_Mountain_dog'),\n",
       " (0, 'n02095570-Lakeland_terrier'),\n",
       " (0, 'n02086646-Blenheim_spaniel'),\n",
       " (0, 'n02088238-basset'),\n",
       " (0, 'n02098286-West_Highland_white_terrier'),\n",
       " (0, 'n02085620-Chihuahua'),\n",
       " (0, 'n02106166-Border_collie'),\n",
       " (0, 'n02090379-redbone'),\n",
       " (0, 'n02090721-Irish_wolfhound'),\n",
       " (0, 'n02088632-bluetick'),\n",
       " (0, 'n02113712-miniature_poodle'),\n",
       " (0, 'n02113186-Cardigan'),\n",
       " (0, 'n02108000-EntleBucher'),\n",
       " (0, 'n02091467-Norwegian_elkhound'),\n",
       " (0, 'n02100236-German_short-haired_pointer'),\n",
       " (0, 'n02107683-Bernese_mountain_dog'),\n",
       " (0, 'n02086910-papillon'),\n",
       " (0, 'n02097474-Tibetan_terrier'),\n",
       " (0, 'n02101006-Gordon_setter'),\n",
       " (0, 'n02093428-American_Staffordshire_terrier'),\n",
       " (0, 'n02100583-vizsla'),\n",
       " (0, 'n02105412-kelpie'),\n",
       " (0, 'n02092339-Weimaraner'),\n",
       " (0, 'n02107312-miniature_pinscher'),\n",
       " (0, 'n02108089-boxer'),\n",
       " (0, 'n02112137-chow'),\n",
       " (0, 'n02105641-Old_English_sheepdog'),\n",
       " (0, 'n02110958-pug'),\n",
       " (0, 'n02087394-Rhodesian_ridgeback'),\n",
       " (0, 'n02097298-Scotch_terrier'),\n",
       " (0, 'n02086240-Shih-Tzu'),\n",
       " (0, 'n02110627-affenpinscher'),\n",
       " (0, 'n02091134-whippet'),\n",
       " (0, 'n02102480-Sussex_spaniel'),\n",
       " (0, 'n02091635-otterhound'),\n",
       " (0, 'n02099267-flat-coated_retriever'),\n",
       " (0, 'n02100735-English_setter'),\n",
       " (0, 'n02091032-Italian_greyhound'),\n",
       " (0, 'n02099712-Labrador_retriever'),\n",
       " (0, 'n02106030-collie'),\n",
       " (0, 'n02096177-cairn'),\n",
       " (0, 'n02106550-Rottweiler'),\n",
       " (0, 'n02096294-Australian_terrier'),\n",
       " (0, 'n02087046-toy_terrier'),\n",
       " (0, 'n02105855-Shetland_sheepdog'),\n",
       " (0, 'n02116738-African_hunting_dog'),\n",
       " (0, 'n02111277-Newfoundland'),\n",
       " (0, 'n02089867-Walker_hound'),\n",
       " (0, 'n02098413-Lhasa'),\n",
       " (0, 'n02088364-beagle'),\n",
       " (0, 'n02111889-Samoyed'),\n",
       " (0, 'n02109047-Great_Dane'),\n",
       " (0, 'n02096051-Airedale'),\n",
       " (0, 'n02088466-bloodhound'),\n",
       " (0, 'n02100877-Irish_setter'),\n",
       " (0, 'n02112350-keeshond'),\n",
       " (0, 'n02096437-Dandie_Dinmont'),\n",
       " (0, 'n02110806-basenji'),\n",
       " (0, 'n02093647-Bedlington_terrier'),\n",
       " (0, 'n02107908-Appenzeller'),\n",
       " (0, 'n02101556-clumber'),\n",
       " (0, 'n02113624-toy_poodle'),\n",
       " (0, 'n02111500-Great_Pyrenees'),\n",
       " (0, 'n02102040-English_springer'),\n",
       " (0, 'n02088094-Afghan_hound'),\n",
       " (0, 'n02101388-Brittany_spaniel'),\n",
       " (0, 'n02102177-Welsh_springer_spaniel'),\n",
       " (0, 'n02096585-Boston_bull'),\n",
       " (0, 'n02115641-dingo'),\n",
       " (0, 'n02098105-soft-coated_wheaten_terrier'),\n",
       " (0, 'n02099429-curly-coated_retriever'),\n",
       " (0, 'n02108915-French_bulldog'),\n",
       " (0, 'n02102973-Irish_water_spaniel'),\n",
       " (0, 'n02112018-Pomeranian'),\n",
       " (0, 'n02112706-Brabancon_griffon'),\n",
       " (0, 'n02094433-Yorkshire_terrier'),\n",
       " (0, 'n02105056-groenendael'),\n",
       " (0, 'n02111129-Leonberg'),\n",
       " (0, 'n02089078-black-and-tan_coonhound'),\n",
       " (1, 'n02097658-silky_terrier'),\n",
       " (1, 'n02092002-Scottish_deerhound'),\n",
       " (1, 'n02099849-Chesapeake_Bay_retriever'),\n",
       " (1, 'n02091244-Ibizan_hound'),\n",
       " (1, 'n02095314-wire-haired_fox_terrier'),\n",
       " (1, 'n02091831-Saluki'),\n",
       " (1, 'n02102318-cocker_spaniel'),\n",
       " (1, 'n02104365-schipperke'),\n",
       " (1, 'n02090622-borzoi'),\n",
       " (1, 'n02113023-Pembroke'),\n",
       " (1, 'n02105505-komondor'),\n",
       " (1, 'n02093256-Staffordshire_bullterrier'),\n",
       " (1, 'n02113799-standard_poodle'),\n",
       " (1, 'n02109961-Eskimo_dog'),\n",
       " (1, 'n02089973-English_foxhound'),\n",
       " (1, 'n02099601-golden_retriever'),\n",
       " (1, 'n02095889-Sealyham_terrier'),\n",
       " (1, 'n02085782-Japanese_spaniel'),\n",
       " (1, '.DS_Store'),\n",
       " (1, 'n02097047-miniature_schnauzer'),\n",
       " (1, 'n02110063-malamute'),\n",
       " (1, 'n02105162-malinois'),\n",
       " (1, 'n02086079-Pekinese'),\n",
       " (1, 'n02097130-giant_schnauzer'),\n",
       " (1, 'n02113978-Mexican_hairless'),\n",
       " (1, 'n02107142-Doberman'),\n",
       " (1, 'n02097209-standard_schnauzer'),\n",
       " (1, 'n02115913-dhole'),\n",
       " (1, 'n02106662-German_shepherd'),\n",
       " (1, 'n02106382-Bouvier_des_Flandres'),\n",
       " (1, 'n02110185-Siberian_husky'),\n",
       " (1, 'n02094258-Norwich_terrier'),\n",
       " (1, 'n02093991-Irish_terrier'),\n",
       " (1, 'n02094114-Norfolk_terrier'),\n",
       " (1, 'n02109525-Saint_Bernard'),\n",
       " (1, 'n02093754-Border_terrier'),\n",
       " (1, 'n02105251-briard'),\n",
       " (1, 'n02108551-Tibetan_mastiff'),\n",
       " (1, 'n02108422-bull_mastiff'),\n",
       " (1, 'n02085936-Maltese_dog'),\n",
       " (1, 'n02093859-Kerry_blue_terrier'),\n",
       " (1, 'n02104029-kuvasz'),\n",
       " (1, 'n02107574-Greater_Swiss_Mountain_dog'),\n",
       " (1, 'n02095570-Lakeland_terrier'),\n",
       " (1, 'n02086646-Blenheim_spaniel'),\n",
       " (1, 'n02088238-basset'),\n",
       " (1, 'n02098286-West_Highland_white_terrier'),\n",
       " (1, 'n02085620-Chihuahua'),\n",
       " (1, 'n02106166-Border_collie'),\n",
       " (1, 'n02090379-redbone'),\n",
       " (1, 'n02090721-Irish_wolfhound'),\n",
       " (1, 'n02088632-bluetick'),\n",
       " (1, 'n02113712-miniature_poodle'),\n",
       " (1, 'n02113186-Cardigan'),\n",
       " (1, 'n02108000-EntleBucher'),\n",
       " (1, 'n02091467-Norwegian_elkhound'),\n",
       " (1, 'n02100236-German_short-haired_pointer'),\n",
       " (1, 'n02107683-Bernese_mountain_dog'),\n",
       " (1, 'n02086910-papillon'),\n",
       " (1, 'n02097474-Tibetan_terrier'),\n",
       " (1, 'n02101006-Gordon_setter'),\n",
       " (1, 'n02093428-American_Staffordshire_terrier'),\n",
       " (1, 'n02100583-vizsla'),\n",
       " (1, 'n02105412-kelpie'),\n",
       " (1, 'n02092339-Weimaraner'),\n",
       " (1, 'n02107312-miniature_pinscher'),\n",
       " (1, 'n02108089-boxer'),\n",
       " (1, 'n02112137-chow'),\n",
       " (1, 'n02105641-Old_English_sheepdog'),\n",
       " (1, 'n02110958-pug'),\n",
       " (1, 'n02087394-Rhodesian_ridgeback'),\n",
       " (1, 'n02097298-Scotch_terrier'),\n",
       " (1, 'n02086240-Shih-Tzu'),\n",
       " (1, 'n02110627-affenpinscher'),\n",
       " (1, 'n02091134-whippet'),\n",
       " (1, 'n02102480-Sussex_spaniel'),\n",
       " (1, 'n02091635-otterhound'),\n",
       " (1, 'n02099267-flat-coated_retriever'),\n",
       " (1, 'n02100735-English_setter'),\n",
       " (1, 'n02091032-Italian_greyhound'),\n",
       " (1, 'n02099712-Labrador_retriever'),\n",
       " (1, 'n02106030-collie'),\n",
       " (1, 'n02096177-cairn'),\n",
       " (1, 'n02106550-Rottweiler'),\n",
       " (1, 'n02096294-Australian_terrier'),\n",
       " (1, 'n02087046-toy_terrier'),\n",
       " (1, 'n02105855-Shetland_sheepdog'),\n",
       " (1, 'n02116738-African_hunting_dog'),\n",
       " (1, 'n02111277-Newfoundland'),\n",
       " (1, 'n02089867-Walker_hound'),\n",
       " (1, 'n02098413-Lhasa'),\n",
       " (1, 'n02088364-beagle'),\n",
       " (1, 'n02111889-Samoyed'),\n",
       " (1, 'n02109047-Great_Dane'),\n",
       " (1, 'n02096051-Airedale'),\n",
       " (1, 'n02088466-bloodhound'),\n",
       " (1, 'n02100877-Irish_setter'),\n",
       " (1, 'n02112350-keeshond'),\n",
       " (1, 'n02096437-Dandie_Dinmont'),\n",
       " (1, 'n02110806-basenji'),\n",
       " (1, 'n02093647-Bedlington_terrier'),\n",
       " (1, 'n02107908-Appenzeller'),\n",
       " (1, 'n02101556-clumber'),\n",
       " (1, 'n02113624-toy_poodle'),\n",
       " (1, 'n02111500-Great_Pyrenees'),\n",
       " (1, 'n02102040-English_springer'),\n",
       " (1, 'n02088094-Afghan_hound'),\n",
       " (1, 'n02101388-Brittany_spaniel'),\n",
       " (1, 'n02102177-Welsh_springer_spaniel'),\n",
       " (1, 'n02096585-Boston_bull'),\n",
       " (1, 'n02115641-dingo'),\n",
       " (1, 'n02098105-soft-coated_wheaten_terrier'),\n",
       " (1, 'n02099429-curly-coated_retriever'),\n",
       " (1, 'n02108915-French_bulldog'),\n",
       " (1, 'n02102973-Irish_water_spaniel'),\n",
       " (1, 'n02112018-Pomeranian'),\n",
       " (1, 'n02112706-Brabancon_griffon'),\n",
       " (1, 'n02094433-Yorkshire_terrier'),\n",
       " (1, 'n02105056-groenendael'),\n",
       " (1, 'n02111129-Leonberg'),\n",
       " (1, 'n02089078-black-and-tan_coonhound'),\n",
       " (2, 'n02097658-silky_terrier'),\n",
       " (2, 'n02092002-Scottish_deerhound'),\n",
       " (2, 'n02099849-Chesapeake_Bay_retriever'),\n",
       " (2, 'n02091244-Ibizan_hound'),\n",
       " (2, 'n02095314-wire-haired_fox_terrier'),\n",
       " (2, 'n02091831-Saluki'),\n",
       " (2, 'n02102318-cocker_spaniel'),\n",
       " (2, 'n02104365-schipperke'),\n",
       " (2, 'n02090622-borzoi'),\n",
       " (2, 'n02113023-Pembroke'),\n",
       " (2, 'n02105505-komondor'),\n",
       " (2, 'n02093256-Staffordshire_bullterrier'),\n",
       " (2, 'n02113799-standard_poodle'),\n",
       " (2, 'n02109961-Eskimo_dog'),\n",
       " (2, 'n02089973-English_foxhound'),\n",
       " (2, 'n02099601-golden_retriever'),\n",
       " (2, 'n02095889-Sealyham_terrier'),\n",
       " (2, 'n02085782-Japanese_spaniel'),\n",
       " (2, '.DS_Store'),\n",
       " (2, 'n02097047-miniature_schnauzer'),\n",
       " (2, 'n02110063-malamute'),\n",
       " (2, 'n02105162-malinois'),\n",
       " (2, 'n02086079-Pekinese'),\n",
       " (2, 'n02097130-giant_schnauzer'),\n",
       " (2, 'n02113978-Mexican_hairless'),\n",
       " (2, 'n02107142-Doberman'),\n",
       " (2, 'n02097209-standard_schnauzer'),\n",
       " (2, 'n02115913-dhole'),\n",
       " (2, 'n02106662-German_shepherd'),\n",
       " (2, 'n02106382-Bouvier_des_Flandres'),\n",
       " (2, 'n02110185-Siberian_husky'),\n",
       " (2, 'n02094258-Norwich_terrier'),\n",
       " (2, 'n02093991-Irish_terrier'),\n",
       " (2, 'n02094114-Norfolk_terrier'),\n",
       " (2, 'n02109525-Saint_Bernard'),\n",
       " (2, 'n02093754-Border_terrier'),\n",
       " (2, 'n02105251-briard'),\n",
       " (2, 'n02108551-Tibetan_mastiff'),\n",
       " (2, 'n02108422-bull_mastiff'),\n",
       " (2, 'n02085936-Maltese_dog'),\n",
       " (2, 'n02093859-Kerry_blue_terrier'),\n",
       " (2, 'n02104029-kuvasz'),\n",
       " (2, 'n02107574-Greater_Swiss_Mountain_dog'),\n",
       " (2, 'n02095570-Lakeland_terrier'),\n",
       " (2, 'n02086646-Blenheim_spaniel'),\n",
       " (2, 'n02088238-basset'),\n",
       " (2, 'n02098286-West_Highland_white_terrier'),\n",
       " (2, 'n02085620-Chihuahua'),\n",
       " (2, 'n02106166-Border_collie'),\n",
       " (2, 'n02090379-redbone'),\n",
       " (2, 'n02090721-Irish_wolfhound'),\n",
       " (2, 'n02088632-bluetick'),\n",
       " (2, 'n02113712-miniature_poodle'),\n",
       " (2, 'n02113186-Cardigan'),\n",
       " (2, 'n02108000-EntleBucher'),\n",
       " (2, 'n02091467-Norwegian_elkhound'),\n",
       " (2, 'n02100236-German_short-haired_pointer'),\n",
       " (2, 'n02107683-Bernese_mountain_dog'),\n",
       " (2, 'n02086910-papillon'),\n",
       " (2, 'n02097474-Tibetan_terrier'),\n",
       " (2, 'n02101006-Gordon_setter'),\n",
       " (2, 'n02093428-American_Staffordshire_terrier'),\n",
       " (2, 'n02100583-vizsla'),\n",
       " (2, 'n02105412-kelpie'),\n",
       " (2, 'n02092339-Weimaraner'),\n",
       " (2, 'n02107312-miniature_pinscher'),\n",
       " (2, 'n02108089-boxer'),\n",
       " (2, 'n02112137-chow'),\n",
       " (2, 'n02105641-Old_English_sheepdog'),\n",
       " (2, 'n02110958-pug'),\n",
       " (2, 'n02087394-Rhodesian_ridgeback'),\n",
       " (2, 'n02097298-Scotch_terrier'),\n",
       " (2, 'n02086240-Shih-Tzu'),\n",
       " (2, 'n02110627-affenpinscher'),\n",
       " (2, 'n02091134-whippet'),\n",
       " (2, 'n02102480-Sussex_spaniel'),\n",
       " (2, 'n02091635-otterhound'),\n",
       " (2, 'n02099267-flat-coated_retriever'),\n",
       " (2, 'n02100735-English_setter'),\n",
       " (2, 'n02091032-Italian_greyhound'),\n",
       " (2, 'n02099712-Labrador_retriever'),\n",
       " (2, 'n02106030-collie'),\n",
       " (2, 'n02096177-cairn'),\n",
       " (2, 'n02106550-Rottweiler'),\n",
       " (2, 'n02096294-Australian_terrier'),\n",
       " (2, 'n02087046-toy_terrier'),\n",
       " (2, 'n02105855-Shetland_sheepdog'),\n",
       " (2, 'n02116738-African_hunting_dog'),\n",
       " (2, 'n02111277-Newfoundland'),\n",
       " (2, 'n02089867-Walker_hound'),\n",
       " (2, 'n02098413-Lhasa'),\n",
       " (2, 'n02088364-beagle'),\n",
       " (2, 'n02111889-Samoyed'),\n",
       " (2, 'n02109047-Great_Dane'),\n",
       " (2, 'n02096051-Airedale'),\n",
       " (2, 'n02088466-bloodhound'),\n",
       " (2, 'n02100877-Irish_setter'),\n",
       " (2, 'n02112350-keeshond'),\n",
       " (2, 'n02096437-Dandie_Dinmont'),\n",
       " (2, 'n02110806-basenji'),\n",
       " (2, 'n02093647-Bedlington_terrier'),\n",
       " (2, 'n02107908-Appenzeller'),\n",
       " (2, 'n02101556-clumber'),\n",
       " (2, 'n02113624-toy_poodle'),\n",
       " (2, 'n02111500-Great_Pyrenees'),\n",
       " (2, 'n02102040-English_springer'),\n",
       " (2, 'n02088094-Afghan_hound'),\n",
       " (2, 'n02101388-Brittany_spaniel'),\n",
       " (2, 'n02102177-Welsh_springer_spaniel'),\n",
       " (2, 'n02096585-Boston_bull'),\n",
       " (2, 'n02115641-dingo'),\n",
       " (2, 'n02098105-soft-coated_wheaten_terrier'),\n",
       " (2, 'n02099429-curly-coated_retriever'),\n",
       " (2, 'n02108915-French_bulldog'),\n",
       " (2, 'n02102973-Irish_water_spaniel'),\n",
       " (2, 'n02112018-Pomeranian'),\n",
       " (2, 'n02112706-Brabancon_griffon'),\n",
       " (2, 'n02094433-Yorkshire_terrier'),\n",
       " (2, 'n02105056-groenendael'),\n",
       " (2, 'n02111129-Leonberg'),\n",
       " (2, 'n02089078-black-and-tan_coonhound')]"
      ]
     },
     "execution_count": 98,
     "metadata": {},
     "output_type": "execute_result"
    }
   ],
   "source": [
    "# dog_index = []\n",
    "# index = 0\n",
    "# for i in os.listdir(path_to_data):\n",
    "#     dog_path = str(path_to_data) + \"/\" + file_name_list[index]\n",
    "#     for image in os.listdir(\"../Data/Images\"):\n",
    "#         dog_index.append((index, image))\n",
    "#     index = index + 1\n",
    "# dog_index"
   ]
  },
  {
   "cell_type": "code",
   "execution_count": null,
   "metadata": {},
   "outputs": [],
   "source": []
  },
  {
   "cell_type": "markdown",
   "metadata": {},
   "source": [
    "### Keras imports"
   ]
  },
  {
   "cell_type": "code",
   "execution_count": 178,
   "metadata": {},
   "outputs": [],
   "source": [
    "from keras.preprocessing.image import ImageDataGenerator\n",
    "from keras import layers\n",
    "from keras import models\n",
    "from keras import optimizers"
   ]
  },
  {
   "cell_type": "code",
   "execution_count": 176,
   "metadata": {},
   "outputs": [
    {
     "name": "stdout",
     "output_type": "stream",
     "text": [
      "Found 288 images belonging to 2 classes.\n"
     ]
    }
   ],
   "source": [
    "train_dir = \"../Data/FSMimgs\"\n",
    "train_datagen = ImageDataGenerator(rescale=1./255)\n",
    "train_generator = train_datagen.flow_from_directory(\n",
    "        # This is the target directory\n",
    "        train_dir,\n",
    "        # All images will be resized to 150x150\n",
    "        target_size=(150, 150),\n",
    "        batch_size=20,\n",
    "        class_mode='categorical')"
   ]
  },
  {
   "cell_type": "code",
   "execution_count": 177,
   "metadata": {},
   "outputs": [
    {
     "data": {
      "text/plain": [
       "{'bluetick': 0, 'boxer': 1}"
      ]
     },
     "execution_count": 177,
     "metadata": {},
     "output_type": "execute_result"
    }
   ],
   "source": [
    "train_generator.class_indices"
   ]
  },
  {
   "cell_type": "code",
   "execution_count": 189,
   "metadata": {},
   "outputs": [],
   "source": [
    "model_1 = models.Sequential()\n",
    "model_1.add(layers.Dense(64, input_shape = (150, 150, 3)))\n",
    "model_1.add(layers.Flatten())\n",
    "model_1.add(layers.Dense(2, activation = 'softmax'))\n",
    "model_1.compile(loss='categorical_crossentropy',\n",
    "              optimizer=optimizers.RMSprop(lr=1e-4),\n",
    "              metrics=['acc'])"
   ]
  },
  {
   "cell_type": "code",
   "execution_count": 190,
   "metadata": {},
   "outputs": [
    {
     "name": "stdout",
     "output_type": "stream",
     "text": [
      "Epoch 1/5\n",
      "100/100 [==============================] - 35s 355ms/step - loss: 8.4936 - acc: 0.4680\n",
      "Epoch 2/5\n",
      "100/100 [==============================] - 44s 442ms/step - loss: 8.5503 - acc: 0.4695\n",
      "Epoch 3/5\n",
      "100/100 [==============================] - 33s 332ms/step - loss: 8.6188 - acc: 0.4653\n",
      "Epoch 4/5\n",
      "100/100 [==============================] - 32s 318ms/step - loss: 8.5352 - acc: 0.4705\n",
      "Epoch 5/5\n",
      "100/100 [==============================] - 32s 321ms/step - loss: 8.5626 - acc: 0.4688\n"
     ]
    }
   ],
   "source": [
    "history_1 = model_1.fit_generator(train_generator, steps_per_epoch=100, epochs=5)\n"
   ]
  },
  {
   "cell_type": "code",
   "execution_count": 188,
   "metadata": {},
   "outputs": [
    {
     "name": "stdout",
     "output_type": "stream",
     "text": [
      "_________________________________________________________________\n",
      "Layer (type)                 Output Shape              Param #   \n",
      "=================================================================\n",
      "dense_5 (Dense)              (None, 150, 150, 64)      256       \n",
      "_________________________________________________________________\n",
      "flatten_1 (Flatten)          (None, 1440000)           0         \n",
      "_________________________________________________________________\n",
      "dense_6 (Dense)              (None, 2)                 2880002   \n",
      "=================================================================\n",
      "Total params: 2,880,258\n",
      "Trainable params: 2,880,258\n",
      "Non-trainable params: 0\n",
      "_________________________________________________________________\n"
     ]
    }
   ],
   "source": [
    "model_1.summary()"
   ]
  },
  {
   "cell_type": "code",
   "execution_count": 191,
   "metadata": {},
   "outputs": [
    {
     "data": {
      "image/png": "[encoded data removed]",
      "text/plain": [
       "<Figure size 432x288 with 1 Axes>"
      ]
     },
     "metadata": {
      "needs_background": "light"
     },
     "output_type": "display_data"
    },
    {
     "data": {
      "image/png": "[encoded data removed]",
      "text/plain": [
       "<Figure size 432x288 with 1 Axes>"
      ]
     },
     "metadata": {
      "needs_background": "light"
     },
     "output_type": "display_data"
    }
   ],
   "source": [
    "import matplotlib.pyplot as plt\n",
    "%matplotlib inline \n",
    "\n",
    "acc = history_1.history['acc']\n",
    "\n",
    "loss = history_1.history['loss']\n",
    "\n",
    "epochs = range(len(acc))\n",
    "plt.plot(epochs, acc, 'bo', label='Training acc')\n",
    "\n",
    "plt.title('Training acc')\n",
    "plt.legend()\n",
    "plt.figure()\n",
    "plt.plot(epochs, loss, 'bo', label='Training loss')\n",
    "\n",
    "plt.title('Training loss')\n",
    "plt.legend()\n",
    "plt.show()"
   ]
  },
  {
   "cell_type": "code",
   "execution_count": 192,
   "metadata": {},
   "outputs": [
    {
     "name": "stdout",
     "output_type": "stream",
     "text": [
      "Found 428 images belonging to 3 classes.\n"
     ]
    }
   ],
   "source": [
    "train_dir = \"../Data/FSMimgs\"\n",
    "train_datagen = ImageDataGenerator(rescale=1./255)\n",
    "train_generator = train_datagen.flow_from_directory(\n",
    "        # This is the target directory\n",
    "        train_dir,\n",
    "        # All images will be resized to 150x150\n",
    "        target_size=(150, 150),\n",
    "        batch_size=20,\n",
    "        class_mode='categorical')"
   ]
  },
  {
   "cell_type": "code",
   "execution_count": 195,
   "metadata": {},
   "outputs": [],
   "source": [
    "model_2 = models.Sequential()\n",
    "model_2.add(layers.Dense(64, input_shape = (150, 150, 3)))\n",
    "model_2.add(layers.Dense(64))\n",
    "model_2.add(layers.Dense(64))\n",
    "model_2.add(layers.Flatten())\n",
    "model_2.add(layers.Dense(3, activation = 'softmax'))\n",
    "model_2.compile(loss='categorical_crossentropy',\n",
    "              optimizer=optimizers.RMSprop(lr=1e-4),\n",
    "              metrics=['acc'])"
   ]
  },
  {
   "cell_type": "code",
   "execution_count": 194,
   "metadata": {},
   "outputs": [
    {
     "name": "stdout",
     "output_type": "stream",
     "text": [
      "Epoch 1/10\n",
      "100/100 [==============================] - 51s 511ms/step - loss: 10.3659 - acc: 0.3503\n",
      "Epoch 2/10\n",
      "100/100 [==============================] - 61s 609ms/step - loss: 10.3597 - acc: 0.3573\n",
      "Epoch 3/10\n",
      "100/100 [==============================] - 81s 808ms/step - loss: 10.3159 - acc: 0.3600\n",
      "Epoch 4/10\n",
      "100/100 [==============================] - 68s 682ms/step - loss: 10.2479 - acc: 0.3642\n",
      "Epoch 5/10\n",
      "100/100 [==============================] - 51s 505ms/step - loss: 10.3315 - acc: 0.3590\n",
      "Epoch 6/10\n",
      "100/100 [==============================] - 63s 632ms/step - loss: 10.3558 - acc: 0.3575\n",
      "Epoch 7/10\n",
      "100/100 [==============================] - 44s 435ms/step - loss: 10.5128 - acc: 0.3478\n",
      "Epoch 8/10\n",
      "100/100 [==============================] - 43s 425ms/step - loss: 10.3395 - acc: 0.3585\n",
      "Epoch 9/10\n",
      "100/100 [==============================] - 54s 538ms/step - loss: 10.3357 - acc: 0.3588\n",
      "Epoch 10/10\n",
      "100/100 [==============================] - 44s 441ms/step - loss: 10.3317 - acc: 0.3590\n"
     ]
    }
   ],
   "source": [
    "history_2 = model_2.fit_generator(train_generator, steps_per_epoch=100, epochs=10)"
   ]
  },
  {
   "cell_type": "code",
   "execution_count": 196,
   "metadata": {},
   "outputs": [
    {
     "name": "stdout",
     "output_type": "stream",
     "text": [
      "Epoch 1/12\n",
      "100/100 [==============================] - 76s 763ms/step - loss: 10.2456 - acc: 0.3563\n",
      "Epoch 2/12\n",
      "100/100 [==============================] - 64s 636ms/step - loss: 10.4001 - acc: 0.3548\n",
      "Epoch 3/12\n",
      "100/100 [==============================] - 72s 725ms/step - loss: 10.4278 - acc: 0.3530\n",
      "Epoch 4/12\n",
      "100/100 [==============================] - 63s 634ms/step - loss: 10.3356 - acc: 0.3588\n",
      "Epoch 5/12\n",
      "100/100 [==============================] - 72s 724ms/step - loss: 10.4121 - acc: 0.3540\n",
      "Epoch 6/12\n",
      "100/100 [==============================] - 61s 613ms/step - loss: 10.3392 - acc: 0.3585\n",
      "Epoch 7/12\n",
      "100/100 [==============================] - 70s 700ms/step - loss: 10.4121 - acc: 0.3540\n",
      "Epoch 8/12\n",
      "100/100 [==============================] - 60s 604ms/step - loss: 10.2960 - acc: 0.3612\n",
      "Epoch 9/12\n",
      "100/100 [==============================] - 69s 690ms/step - loss: 10.3760 - acc: 0.3563\n",
      "Epoch 10/12\n",
      "100/100 [==============================] - 64s 640ms/step - loss: 10.3761 - acc: 0.3562\n",
      "Epoch 11/12\n",
      "100/100 [==============================] - 64s 643ms/step - loss: 10.3596 - acc: 0.3573\n",
      "Epoch 12/12\n",
      "100/100 [==============================] - 67s 670ms/step - loss: 10.4003 - acc: 0.3547\n"
     ]
    }
   ],
   "source": [
    "history_3 = model_2.fit_generator(train_generator, steps_per_epoch=100, epochs=12)"
   ]
  },
  {
   "cell_type": "code",
   "execution_count": 197,
   "metadata": {},
   "outputs": [
    {
     "data": {
      "image/png": "[encoded data removed]",
      "text/plain": [
       "<Figure size 432x288 with 1 Axes>"
      ]
     },
     "metadata": {
      "needs_background": "light"
     },
     "output_type": "display_data"
    },
    {
     "data": {
      "image/png": "[encoded data removed]",
      "text/plain": [
       "<Figure size 432x288 with 1 Axes>"
      ]
     },
     "metadata": {
      "needs_background": "light"
     },
     "output_type": "display_data"
    }
   ],
   "source": [
    "import matplotlib.pyplot as plt\n",
    "%matplotlib inline \n",
    "\n",
    "acc = history_2.history['acc']\n",
    "\n",
    "loss = history_2.history['loss']\n",
    "\n",
    "epochs = range(len(acc))\n",
    "plt.plot(epochs, acc, 'bo', label='Training acc')\n",
    "\n",
    "plt.title('Training accuracy')\n",
    "plt.legend()\n",
    "plt.figure()\n",
    "plt.plot(epochs, loss, 'bo', label='Training loss')\n",
    "\n",
    "plt.title('Training loss')\n",
    "plt.legend()\n",
    "plt.show()"
   ]
  },
  {
   "cell_type": "code",
   "execution_count": null,
   "metadata": {},
   "outputs": [],
   "source": []
  }
 ],
 "metadata": {
  "kernelspec": {
   "display_name": "learn-env",
   "language": "python",
   "name": "learn-env"
  },
  "language_info": {
   "codemirror_mode": {
    "name": "ipython",
    "version": 3
   },
   "file_extension": ".py",
   "mimetype": "text/x-python",
   "name": "python",
   "nbconvert_exporter": "python",
   "pygments_lexer": "ipython3",
   "version": "3.6.9"
  }
 },
 "nbformat": 4,
 "nbformat_minor": 4
}
